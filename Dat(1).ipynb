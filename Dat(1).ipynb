{
  "nbformat": 4,
  "nbformat_minor": 0,
  "metadata": {
    "colab": {
      "provenance": [],
      "authorship_tag": "ABX9TyMTcKCYmu8gC/ETP07qDe27",
      "include_colab_link": true
    },
    "kernelspec": {
      "name": "python3",
      "display_name": "Python 3"
    },
    "language_info": {
      "name": "python"
    }
  },
  "cells": [
    {
      "cell_type": "markdown",
      "metadata": {
        "id": "view-in-github",
        "colab_type": "text"
      },
      "source": [
        "<a href=\"https://colab.research.google.com/github/Sompa-Bhui/DSA_With_Python_Basic_to_Advance/blob/main/Dat(1).ipynb\" target=\"_parent\"><img src=\"https://colab.research.google.com/assets/colab-badge.svg\" alt=\"Open In Colab\"/></a>"
      ]
    },
    {
      "cell_type": "code",
      "execution_count": null,
      "metadata": {
        "id": "zGRhBWdczpuD"
      },
      "outputs": [],
      "source": []
    },
    {
      "cell_type": "markdown",
      "source": [
        "# Operators"
      ],
      "metadata": {
        "id": "6Idgl0P2ztFu"
      }
    },
    {
      "cell_type": "code",
      "source": [
        "#Assignment Operator\n",
        "print(34+324)\n",
        "print(34-324)\n",
        "print(34*324)\n",
        "print(34/324)\n",
        "print(34//324)\n",
        "print(34%324)\n",
        "print(34**324)"
      ],
      "metadata": {
        "colab": {
          "base_uri": "https://localhost:8080/"
        },
        "id": "vK6n7F8gzv_7",
        "outputId": "6da49c88-9835-45a3-935d-6a26aad2f5a1"
      },
      "execution_count": null,
      "outputs": [
        {
          "output_type": "stream",
          "name": "stdout",
          "text": [
            "358\n",
            "-290\n",
            "11016\n",
            "0.10493827160493827\n",
            "0\n",
            "34\n",
            "15818639241808953513199203672234427611070335025991611641526275374752144433155839015595876669689071864106503329488204400949966500001402747659778137606233681851233707460938851483005322063233329630932589792025293654619681162564504772639184718873371842285505516173352756256030507896447895240358143813831770065814148193761191600958766005911626101036996270733006938022099142027806582648951606645062776837108081188302419529845202809360691849438552760590485425635142390270129610786227877903218461571547136\n"
          ]
        }
      ]
    },
    {
      "cell_type": "code",
      "source": [
        "#Assignment Operators:-\n",
        "a = 5\n",
        "b = 10\n",
        "\n",
        "print(a)\n",
        "print(b)"
      ],
      "metadata": {
        "colab": {
          "base_uri": "https://localhost:8080/"
        },
        "id": "qOxIqLQL0S0S",
        "outputId": "deb4818d-167a-4e5b-f3e0-2ab5f5aafce8"
      },
      "execution_count": null,
      "outputs": [
        {
          "output_type": "stream",
          "name": "stdout",
          "text": [
            "5\n",
            "10\n"
          ]
        }
      ]
    },
    {
      "cell_type": "code",
      "source": [
        "a = 5\n",
        "a += 2\n",
        "print(a)"
      ],
      "metadata": {
        "colab": {
          "base_uri": "https://localhost:8080/"
        },
        "id": "bldmgxcB2m6z",
        "outputId": "41cb1938-bb0f-46c7-bde0-879216a974d1"
      },
      "execution_count": null,
      "outputs": [
        {
          "output_type": "stream",
          "name": "stdout",
          "text": [
            "7\n"
          ]
        }
      ]
    },
    {
      "cell_type": "code",
      "source": [
        "a = 10\n",
        "a *= 3\n",
        "print(a)"
      ],
      "metadata": {
        "colab": {
          "base_uri": "https://localhost:8080/"
        },
        "id": "Fa8v6VOi2q95",
        "outputId": "f256f803-e705-4afd-850c-3aeb7a8cb5a4"
      },
      "execution_count": null,
      "outputs": [
        {
          "output_type": "stream",
          "name": "stdout",
          "text": [
            "30\n"
          ]
        }
      ]
    },
    {
      "cell_type": "code",
      "source": [
        "#Comparison OPerators:\n",
        "a = 10\n",
        "b = 20\n",
        "a == b"
      ],
      "metadata": {
        "colab": {
          "base_uri": "https://localhost:8080/"
        },
        "id": "3Y97PlyL2zVC",
        "outputId": "fc6441fc-fdca-4c17-b02b-f28f65a8d70d"
      },
      "execution_count": null,
      "outputs": [
        {
          "output_type": "execute_result",
          "data": {
            "text/plain": [
              "False"
            ]
          },
          "metadata": {},
          "execution_count": 7
        }
      ]
    },
    {
      "cell_type": "code",
      "source": [
        "#Logical Operator\n",
        "a = 10\n",
        "b = 5\n",
        "\n",
        "# AND operator\n",
        "print(a > 5 and b < 10)   # True\n",
        "\n",
        "# OR operator\n",
        "print(a < 5 or b < 10)    # True\n",
        "\n",
        "# NOT operator\n",
        "print(not(a < 5))         # True\n"
      ],
      "metadata": {
        "colab": {
          "base_uri": "https://localhost:8080/"
        },
        "id": "h3CJQ5Aa3LOL",
        "outputId": "47cde2c4-0188-496b-f285-049c83fef2e7"
      },
      "execution_count": null,
      "outputs": [
        {
          "output_type": "stream",
          "name": "stdout",
          "text": [
            "True\n",
            "True\n",
            "True\n"
          ]
        }
      ]
    },
    {
      "cell_type": "code",
      "source": [
        "#Identiti operator\n",
        "a = [1, 2]\n",
        "b = a\n",
        "c = [1, 2]\n",
        "a is b"
      ],
      "metadata": {
        "colab": {
          "base_uri": "https://localhost:8080/"
        },
        "id": "ioV8CjSx3fpz",
        "outputId": "2ec68c8c-2124-44ec-80dc-553f107b4251"
      },
      "execution_count": null,
      "outputs": [
        {
          "output_type": "execute_result",
          "data": {
            "text/plain": [
              "True"
            ]
          },
          "metadata": {},
          "execution_count": 12
        }
      ]
    },
    {
      "cell_type": "code",
      "source": [
        "#Membership Operator\n",
        "x = [1,2,3,4,5,6]\n",
        "print(5 in x)"
      ],
      "metadata": {
        "colab": {
          "base_uri": "https://localhost:8080/"
        },
        "id": "jMa_f-iW39KZ",
        "outputId": "6d6d442f-ba0d-4231-d63e-7cba8ded8397"
      },
      "execution_count": null,
      "outputs": [
        {
          "output_type": "stream",
          "name": "stdout",
          "text": [
            "True\n"
          ]
        }
      ]
    },
    {
      "cell_type": "code",
      "source": [
        "\"a\" in \"apple\"       # True\n",
        "\"z\" in \"apple\"       # False\n",
        "3 in [1, 2, 3, 4]    # True\n",
        "5 not in [1, 2, 3]   # True"
      ],
      "metadata": {
        "colab": {
          "base_uri": "https://localhost:8080/"
        },
        "id": "GxXOWG9h4SmB",
        "outputId": "4f5be878-e1c1-40ab-d6d2-d75e23a63650"
      },
      "execution_count": null,
      "outputs": [
        {
          "output_type": "execute_result",
          "data": {
            "text/plain": [
              "True"
            ]
          },
          "metadata": {},
          "execution_count": 14
        }
      ]
    },
    {
      "cell_type": "code",
      "source": [
        "#Bitwise Operator\n",
        "a = 5     # In binary: 0101\n",
        "b = 3     # In binary: 0011\n",
        "\n",
        "# AND\n",
        "print(a & b)   # 1 (0101 & 0011 = 0001)\n",
        "\n",
        "# OR\n",
        "print(a | b)   # 7 (0101 | 0011 = 0111)\n",
        "\n",
        "# XOR\n",
        "print(a ^ b)   # 6 (0101 ^ 0011 = 0110)\n",
        "\n",
        "# NOT\n",
        "print(~a)      # -6 (inverts all bits of 5)\n",
        "\n",
        "# Left Shift\n",
        "print(a << 1)  # 10 (shift left: 0101 -> 1010)\n",
        "\n",
        "# Right Shi\n"
      ],
      "metadata": {
        "colab": {
          "base_uri": "https://localhost:8080/"
        },
        "id": "fPM9u0xa4XZM",
        "outputId": "ce5b7ca9-de46-4fdc-cab8-27fd48e278bf"
      },
      "execution_count": null,
      "outputs": [
        {
          "output_type": "stream",
          "name": "stdout",
          "text": [
            "1\n",
            "7\n",
            "6\n",
            "-6\n",
            "10\n"
          ]
        }
      ]
    },
    {
      "cell_type": "code",
      "source": [],
      "metadata": {
        "id": "T2jdkFq94jxp"
      },
      "execution_count": null,
      "outputs": []
    },
    {
      "cell_type": "markdown",
      "source": [
        "# Data Types"
      ],
      "metadata": {
        "id": "f4y7kJD_4oAg"
      }
    },
    {
      "cell_type": "code",
      "source": [
        "#Numeric Data Type\n",
        "age = 100\n",
        "height = 12.43\n",
        "c = 2 + 4j\n",
        "\n",
        "print(age, type(age))\n",
        "print(height, type(height))\n",
        "print(c, type(c))"
      ],
      "metadata": {
        "id": "vgq3N5za4rR0",
        "colab": {
          "base_uri": "https://localhost:8080/"
        },
        "outputId": "ac545e70-4e50-421d-f50b-44f953a1001f"
      },
      "execution_count": 2,
      "outputs": [
        {
          "output_type": "stream",
          "name": "stdout",
          "text": [
            "100 <class 'int'>\n",
            "12.43 <class 'float'>\n",
            "(2+4j) <class 'complex'>\n"
          ]
        }
      ]
    },
    {
      "cell_type": "code",
      "source": [
        "# String Data Type\n",
        "s1 = 'a'\n",
        "s2 = \"Sompa\"\n",
        "s3 = \"My name is Sompa\"\n",
        "\n",
        "print(s1, type(s1))\n",
        "print(s2, type(s2))\n",
        "print(s3, type(s3))"
      ],
      "metadata": {
        "colab": {
          "base_uri": "https://localhost:8080/"
        },
        "id": "Yzkl-bGqwbId",
        "outputId": "88fb6459-7ef0-4abb-e9e2-0cfe24fb18fe"
      },
      "execution_count": 4,
      "outputs": [
        {
          "output_type": "stream",
          "name": "stdout",
          "text": [
            "a <class 'str'>\n",
            "Sompa <class 'str'>\n",
            "My name is Sompa <class 'str'>\n"
          ]
        }
      ]
    },
    {
      "cell_type": "code",
      "source": [
        "isMarried = False\n",
        "isGraduated = True\n",
        "\n",
        "print(isMarried, type(isMarried))\n",
        "print(isGraduated, type(isGraduated))"
      ],
      "metadata": {
        "colab": {
          "base_uri": "https://localhost:8080/"
        },
        "id": "0KS_778yw-2K",
        "outputId": "0882b5d1-860e-4bff-e702-42459dbcc9ac"
      },
      "execution_count": 5,
      "outputs": [
        {
          "output_type": "stream",
          "name": "stdout",
          "text": [
            "False <class 'bool'>\n",
            "True <class 'bool'>\n"
          ]
        }
      ]
    },
    {
      "cell_type": "code",
      "source": [
        "name = None\n",
        "\n",
        "print(name, type(name))"
      ],
      "metadata": {
        "colab": {
          "base_uri": "https://localhost:8080/"
        },
        "id": "zG-ha_7Kx9v_",
        "outputId": "4be34311-5adc-490d-b830-f5de80f53fb9"
      },
      "execution_count": 7,
      "outputs": [
        {
          "output_type": "stream",
          "name": "stdout",
          "text": [
            "None <class 'NoneType'>\n"
          ]
        }
      ]
    },
    {
      "cell_type": "code",
      "source": [],
      "metadata": {
        "id": "yEMVAHuxyKIu"
      },
      "execution_count": null,
      "outputs": []
    },
    {
      "cell_type": "markdown",
      "source": [
        "# Input/Output"
      ],
      "metadata": {
        "id": "DHTIp9__--Ei"
      }
    },
    {
      "cell_type": "code",
      "source": [
        "first_name = input(\"Enter your first name\")\n",
        "last_name = input(\"Enter your last name\")\n",
        "print(first_name, last_name)"
      ],
      "metadata": {
        "colab": {
          "base_uri": "https://localhost:8080/"
        },
        "id": "RpMnDFVb_BAx",
        "outputId": "1d1ae9e6-93a6-4ea1-d767-0a7cb2a7db9c"
      },
      "execution_count": 3,
      "outputs": [
        {
          "output_type": "stream",
          "name": "stdout",
          "text": [
            "Enter your first nameSompa\n",
            "Enter your last nameBhui\n",
            "Sompa Bhui\n"
          ]
        }
      ]
    },
    {
      "cell_type": "code",
      "source": [
        "age = int(input())\n",
        "height = float(input())\n",
        "\n",
        "print(age, height)\n"
      ],
      "metadata": {
        "colab": {
          "base_uri": "https://localhost:8080/"
        },
        "id": "YX_-BKgK_FtJ",
        "outputId": "e31a136c-7faf-4772-fbe1-a9305e1756fc"
      },
      "execution_count": 4,
      "outputs": [
        {
          "output_type": "stream",
          "name": "stdout",
          "text": [
            "234\n",
            "56.7\n",
            "234 56.7\n"
          ]
        }
      ]
    },
    {
      "cell_type": "code",
      "source": [
        "#Output\n",
        "name = \"Sompa\"\n",
        "age = 21\n",
        "print(\"Name:\", name, \"Age:\", age)"
      ],
      "metadata": {
        "colab": {
          "base_uri": "https://localhost:8080/"
        },
        "id": "p8Nj7ClFH8Vq",
        "outputId": "a9f498fc-5d46-4d4d-8697-8efc77c32a79"
      },
      "execution_count": 5,
      "outputs": [
        {
          "output_type": "stream",
          "name": "stdout",
          "text": [
            "Name: Sompa Age: 21\n"
          ]
        }
      ]
    },
    {
      "cell_type": "code",
      "source": [
        "full_name = \"Sompa Bhui\"\n",
        "age = 21\n",
        "address = \"Jamshedpur\"\n",
        "\n",
        "print(full_name, age, address)"
      ],
      "metadata": {
        "colab": {
          "base_uri": "https://localhost:8080/"
        },
        "id": "DwNDsggVIMzU",
        "outputId": "e6c31500-e0ba-4ba9-d8a0-05947dd1483b"
      },
      "execution_count": 6,
      "outputs": [
        {
          "output_type": "stream",
          "name": "stdout",
          "text": [
            "Sompa Bhui 21 Jamshedpur\n"
          ]
        }
      ]
    },
    {
      "cell_type": "code",
      "source": [
        "full_name = \"Sompa Bhui\"\n",
        "age = 21\n",
        "address = \"Jamshedpur\"\n",
        "\n",
        "print(full_name)\n",
        "print(age)\n",
        "print(address)"
      ],
      "metadata": {
        "colab": {
          "base_uri": "https://localhost:8080/"
        },
        "id": "CuJYx8mzIYoe",
        "outputId": "72d11a9c-2118-4daf-dc4e-29fc601c479e"
      },
      "execution_count": 7,
      "outputs": [
        {
          "output_type": "stream",
          "name": "stdout",
          "text": [
            "Sompa Bhui\n",
            "21\n",
            "Jamshedpur\n"
          ]
        }
      ]
    },
    {
      "cell_type": "code",
      "source": [
        "full_name = \"Sompa Bhui\"\n",
        "age = 21\n",
        "address = \"Jamshedpur\"\n",
        "\n",
        "print(full_name, age, address, sep=\"\\n\")"
      ],
      "metadata": {
        "colab": {
          "base_uri": "https://localhost:8080/"
        },
        "id": "X3FCABJCIeqt",
        "outputId": "ac63ebff-8c33-489d-9ef8-39ae69c7536d"
      },
      "execution_count": 8,
      "outputs": [
        {
          "output_type": "stream",
          "name": "stdout",
          "text": [
            "Sompa Bhui\n",
            "21\n",
            "Jamshedpur\n"
          ]
        }
      ]
    },
    {
      "cell_type": "code",
      "source": [
        "full_name = \"Sompa Bhui\"\n",
        "age = 21\n",
        "address = \"Jamshedpur\"\n",
        "\n",
        "print(full_name, age, address, end = \"&&\")"
      ],
      "metadata": {
        "colab": {
          "base_uri": "https://localhost:8080/"
        },
        "id": "xqkf22FZI5EH",
        "outputId": "3b9b1b56-6e2f-40bb-f00a-be64cfbeda63"
      },
      "execution_count": 9,
      "outputs": [
        {
          "output_type": "stream",
          "name": "stdout",
          "text": [
            "Sompa Bhui 21 Jamshedpur&&"
          ]
        }
      ]
    },
    {
      "cell_type": "code",
      "source": [],
      "metadata": {
        "id": "yMkzUIGPJjYy"
      },
      "execution_count": null,
      "outputs": []
    }
  ]
}