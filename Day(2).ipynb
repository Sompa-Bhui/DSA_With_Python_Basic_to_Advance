{
  "nbformat": 4,
  "nbformat_minor": 0,
  "metadata": {
    "colab": {
      "provenance": [],
      "authorship_tag": "ABX9TyOauv/XnZQ+e1EJ1bnP9b3a",
      "include_colab_link": true
    },
    "kernelspec": {
      "name": "python3",
      "display_name": "Python 3"
    },
    "language_info": {
      "name": "python"
    }
  },
  "cells": [
    {
      "cell_type": "markdown",
      "metadata": {
        "id": "view-in-github",
        "colab_type": "text"
      },
      "source": [
        "<a href=\"https://colab.research.google.com/github/Sompa-Bhui/DSA_With_Python_Basic_to_Advance/blob/main/Day(2).ipynb\" target=\"_parent\"><img src=\"https://colab.research.google.com/assets/colab-badge.svg\" alt=\"Open In Colab\"/></a>"
      ]
    },
    {
      "cell_type": "markdown",
      "source": [
        "# Control Statements"
      ],
      "metadata": {
        "id": "S0VEGOuBKS7b"
      }
    },
    {
      "cell_type": "code",
      "source": [
        "#Take input of age and on the basis of age print eligible or not elogible for driving licences\n",
        "age = int(input())\n",
        "if (age>=18):\n",
        "  print(\"Eligible for Driving License\")\n",
        "else:\n",
        "  print(\"Not Eligible for Driving License\")"
      ],
      "metadata": {
        "id": "9grMEeKqKVNH",
        "colab": {
          "base_uri": "https://localhost:8080/"
        },
        "outputId": "16e167ee-0c7b-4fcc-d0e3-5dc2cfa240b1"
      },
      "execution_count": null,
      "outputs": [
        {
          "output_type": "stream",
          "name": "stdout",
          "text": [
            "25\n",
            "Eligible for Driving License\n"
          ]
        }
      ]
    },
    {
      "cell_type": "code",
      "source": [
        "#nested if\n",
        "age = int(input())\n",
        "if(age>=18):\n",
        "  test = input()\n",
        "  if test==\"PASS\":\n",
        "    print(\"Eligible for Mains Exam\")\n",
        "  else:\n",
        "    print(\"Not Eligible for Mains Exam\")"
      ],
      "metadata": {
        "colab": {
          "base_uri": "https://localhost:8080/"
        },
        "id": "hZfV6SZERRIb",
        "outputId": "9363c9c8-4537-4d35-81d1-bf94a0d4ab80"
      },
      "execution_count": null,
      "outputs": [
        {
          "output_type": "stream",
          "name": "stdout",
          "text": [
            "45\n",
            "PASS\n",
            "Eligible for Mains Exam\n"
          ]
        }
      ]
    },
    {
      "cell_type": "code",
      "source": [
        "#marks\n",
        "\n",
        "marks = int(input())\n",
        "\n",
        "if marks>=90:\n",
        "  print(\"Excellent\")\n",
        "elif marks>=70:\n",
        "  print(\"Good\")\n",
        "elif marks>=40:\n",
        "  print(\"Fair\")\n",
        "else:\n",
        "  print(\"Poor\")"
      ],
      "metadata": {
        "colab": {
          "base_uri": "https://localhost:8080/"
        },
        "id": "6yBKOb2SRhiC",
        "outputId": "c0219f4e-6f88-4d91-d209-c41dab044631"
      },
      "execution_count": null,
      "outputs": [
        {
          "output_type": "stream",
          "name": "stdout",
          "text": [
            "39\n",
            "Poor\n"
          ]
        }
      ]
    },
    {
      "cell_type": "code",
      "source": [
        "temp = int(input())\n",
        "\n",
        "if temp<=50 and temp>=25:\n",
        "  print(\"Hot\")\n",
        "elif temp<=25 and temp>=10:\n",
        "  print(\"Moderate\")\n",
        "elif temp<10:\n",
        "  print(\"Extremely Cold\")"
      ],
      "metadata": {
        "colab": {
          "base_uri": "https://localhost:8080/"
        },
        "id": "gOqlLQWfSes7",
        "outputId": "99fa427c-fa35-4d0d-a647-0ccc440c05f2"
      },
      "execution_count": null,
      "outputs": [
        {
          "output_type": "stream",
          "name": "stdout",
          "text": [
            "11\n",
            "Moderate\n"
          ]
        }
      ]
    },
    {
      "cell_type": "code",
      "source": [
        "weather = \"rainy\"\n",
        "hunger = True\n",
        "\n",
        "if weather == \"rainy\":\n",
        "    print(\"Take an umbrella.\")\n",
        "elif hunger:\n",
        "    print(\"Eat food.\")\n",
        "else:\n",
        "    print(\"Enjoy your day!\")"
      ],
      "metadata": {
        "colab": {
          "base_uri": "https://localhost:8080/"
        },
        "id": "I6Hk0X6cS_ta",
        "outputId": "3f51b4d4-58d4-4de8-c0b6-0720947475e2"
      },
      "execution_count": null,
      "outputs": [
        {
          "output_type": "stream",
          "name": "stdout",
          "text": [
            "Take an umbrella.\n"
          ]
        }
      ]
    },
    {
      "cell_type": "code",
      "source": [
        "#Ternary Operator:- In here we write if else on single line\n",
        "age = int(input())\n",
        "result = \"Eligible\" if age>=18 else \"Not Eligible\"\n",
        "print(result)"
      ],
      "metadata": {
        "colab": {
          "base_uri": "https://localhost:8080/"
        },
        "id": "A5BLQqioTQdI",
        "outputId": "5287a9f3-6de9-42e1-c5e5-fe57ab094b3c"
      },
      "execution_count": null,
      "outputs": [
        {
          "output_type": "stream",
          "name": "stdout",
          "text": [
            "18\n",
            "Eligible\n"
          ]
        }
      ]
    },
    {
      "cell_type": "code",
      "source": [],
      "metadata": {
        "id": "O_B1bNc-Tq-Y"
      },
      "execution_count": null,
      "outputs": []
    },
    {
      "cell_type": "markdown",
      "source": [
        "# Loops"
      ],
      "metadata": {
        "id": "gaR4mSfBTxaZ"
      }
    },
    {
      "cell_type": "code",
      "source": [
        "for i in range(2, 11, 2):\n",
        "    print(i)"
      ],
      "metadata": {
        "colab": {
          "base_uri": "https://localhost:8080/"
        },
        "id": "1lyCtTfMTzYm",
        "outputId": "5e49c86c-e7f0-40f5-ea34-b6120d574901"
      },
      "execution_count": null,
      "outputs": [
        {
          "output_type": "stream",
          "name": "stdout",
          "text": [
            "2\n",
            "4\n",
            "6\n",
            "8\n",
            "10\n"
          ]
        }
      ]
    },
    {
      "cell_type": "code",
      "source": [
        "\n",
        "total = 0\n",
        "for i in range(1, 101):\n",
        "    total += i\n",
        "print(\"Sum =\", total)\n"
      ],
      "metadata": {
        "colab": {
          "base_uri": "https://localhost:8080/"
        },
        "id": "G9-VwE5pXmgJ",
        "outputId": "91bc4ad7-7c88-4e08-b498-9ae067a05cd6"
      },
      "execution_count": null,
      "outputs": [
        {
          "output_type": "stream",
          "name": "stdout",
          "text": [
            "Sum = 5050\n"
          ]
        }
      ]
    },
    {
      "cell_type": "code",
      "source": [
        "n = int(input(\"Enter a number:\"))\n",
        "fact = 1\n",
        "i = 1\n",
        "while i <= n:\n",
        "  fact *= i\n",
        "  i += 1\n",
        "  print(\"Factorial is\", fact)"
      ],
      "metadata": {
        "colab": {
          "base_uri": "https://localhost:8080/"
        },
        "id": "KgNBWVVfaC5t",
        "outputId": "dcaa89e0-aa5b-4645-b2f1-610190105354"
      },
      "execution_count": null,
      "outputs": [
        {
          "output_type": "stream",
          "name": "stdout",
          "text": [
            "Enter a number:3\n",
            "Factorial is 1\n",
            "Factorial is 2\n",
            "Factorial is 6\n"
          ]
        }
      ]
    },
    {
      "cell_type": "code",
      "source": [
        "i = 0\n",
        "\n",
        "while i<5:\n",
        "  print(i,end=\" \")\n",
        "  i+=1"
      ],
      "metadata": {
        "colab": {
          "base_uri": "https://localhost:8080/"
        },
        "id": "zicDE3H7aWDT",
        "outputId": "236dd936-3dee-421b-8b42-7a837a97f1d5"
      },
      "execution_count": null,
      "outputs": [
        {
          "output_type": "stream",
          "name": "stdout",
          "text": [
            "0 1 2 3 4 "
          ]
        }
      ]
    },
    {
      "cell_type": "code",
      "source": [
        "list1 = [3,3,5,2,1]\n",
        "\n",
        "for i in list1:\n",
        "  print(i, end=\" \")"
      ],
      "metadata": {
        "colab": {
          "base_uri": "https://localhost:8080/"
        },
        "id": "yrZnUFTrcGgT",
        "outputId": "6cf3b12e-ca54-4249-952e-8c56beb22b1d"
      },
      "execution_count": null,
      "outputs": [
        {
          "output_type": "stream",
          "name": "stdout",
          "text": [
            "3 3 5 2 1 "
          ]
        }
      ]
    },
    {
      "cell_type": "code",
      "source": [
        "#Range:- It prints from start to end-1\n",
        "for i in range(1,11):\n",
        "  print(i, end=\",\")"
      ],
      "metadata": {
        "colab": {
          "base_uri": "https://localhost:8080/"
        },
        "id": "G2_fWFkycc8w",
        "outputId": "355946d3-2423-467e-805e-5a60ab9491bc"
      },
      "execution_count": null,
      "outputs": [
        {
          "output_type": "stream",
          "name": "stdout",
          "text": [
            "1,2,3,4,5,6,7,8,9,10,"
          ]
        }
      ]
    },
    {
      "cell_type": "code",
      "source": [
        "for i in range(5,11,2):\n",
        "  print(i, end=\" \")"
      ],
      "metadata": {
        "colab": {
          "base_uri": "https://localhost:8080/"
        },
        "id": "cgh-GQT3c6aq",
        "outputId": "23b57dba-35b7-4211-e7f1-6f1e35e9c93c"
      },
      "execution_count": null,
      "outputs": [
        {
          "output_type": "stream",
          "name": "stdout",
          "text": [
            "5 7 9 "
          ]
        }
      ]
    },
    {
      "cell_type": "code",
      "source": [
        "#Print Negative Order\n",
        "for i in range(20,0,-1):\n",
        "  print(i, end=\" \")\n"
      ],
      "metadata": {
        "colab": {
          "base_uri": "https://localhost:8080/"
        },
        "id": "SkRXaLG4dIL9",
        "outputId": "a80924f9-f04f-48f9-ea07-574f0a43ea7f"
      },
      "execution_count": null,
      "outputs": [
        {
          "output_type": "stream",
          "name": "stdout",
          "text": [
            "20 19 18 17 16 15 14 13 12 11 10 9 8 7 6 5 4 3 2 1 "
          ]
        }
      ]
    },
    {
      "cell_type": "code",
      "source": [],
      "metadata": {
        "id": "RkWCp0srdbGV"
      },
      "execution_count": null,
      "outputs": []
    },
    {
      "cell_type": "markdown",
      "source": [
        "# Function"
      ],
      "metadata": {
        "id": "spxBHB4ppv00"
      }
    },
    {
      "cell_type": "code",
      "source": [
        "def printName(name):\n",
        "  print(name)\n",
        "\n",
        "printName(\"Sompa Bhui\")"
      ],
      "metadata": {
        "colab": {
          "base_uri": "https://localhost:8080/"
        },
        "id": "tqq7KdqjpyrJ",
        "outputId": "4ea0a773-3be9-4858-bc98-4d26ef4bdfda"
      },
      "execution_count": null,
      "outputs": [
        {
          "output_type": "stream",
          "name": "stdout",
          "text": [
            "Sompa Bhui\n"
          ]
        }
      ]
    },
    {
      "cell_type": "code",
      "source": [
        "def addTwoNumbers(a,b):\n",
        "  sum = a+b\n",
        "  return sum\n",
        "ans = addTwoNumbers(4,7)\n",
        "print(ans)"
      ],
      "metadata": {
        "colab": {
          "base_uri": "https://localhost:8080/"
        },
        "id": "V6qZyr5cqAKr",
        "outputId": "4957ca57-bd00-4369-a452-e4c2f4833b41"
      },
      "execution_count": null,
      "outputs": [
        {
          "output_type": "stream",
          "name": "stdout",
          "text": [
            "11\n"
          ]
        }
      ]
    },
    {
      "cell_type": "code",
      "source": [
        "def say_hello():\n",
        "    print(\"Hello! Welcome to Python.\")\n",
        "\n",
        "say_hello()  # Call the function"
      ],
      "metadata": {
        "colab": {
          "base_uri": "https://localhost:8080/"
        },
        "id": "uJlzlPsdqQlI",
        "outputId": "8aec4b21-75f5-435e-bf8a-54e44ffbf17c"
      },
      "execution_count": null,
      "outputs": [
        {
          "output_type": "stream",
          "name": "stdout",
          "text": [
            "Hello! Welcome to Python.\n"
          ]
        }
      ]
    },
    {
      "cell_type": "code",
      "source": [
        "def square(x):\n",
        "    return x * x\n",
        "\n",
        "result = square(5)\n",
        "print(\"Square is:\", result)  # Output: 25"
      ],
      "metadata": {
        "colab": {
          "base_uri": "https://localhost:8080/"
        },
        "id": "YPdKlBJJqgVq",
        "outputId": "7a8f4299-0120-4fad-b85e-0aad00fee61a"
      },
      "execution_count": null,
      "outputs": [
        {
          "output_type": "stream",
          "name": "stdout",
          "text": [
            "Square is: 25\n"
          ]
        }
      ]
    },
    {
      "cell_type": "code",
      "source": [
        "# ✅ Basic Function\n",
        "\n",
        "def greet():\n",
        "  print(\"Hell0, world!\")\n",
        "\n",
        "greet()"
      ],
      "metadata": {
        "colab": {
          "base_uri": "https://localhost:8080/"
        },
        "id": "i5dUmOoErUHY",
        "outputId": "613f7a10-3d0b-4a67-a580-536c5eab062c"
      },
      "execution_count": null,
      "outputs": [
        {
          "output_type": "stream",
          "name": "stdout",
          "text": [
            "Hell0, world!\n"
          ]
        }
      ]
    },
    {
      "cell_type": "code",
      "source": [
        "  # ✅ Function with Parameters\n",
        "def greet(name):\n",
        "    print(f\"Hello, {name}!\")\n",
        "\n",
        "greet(\"Sompa\")\n"
      ],
      "metadata": {
        "colab": {
          "base_uri": "https://localhost:8080/"
        },
        "id": "P4PhhKJpreNt",
        "outputId": "734e1c35-b9a9-42ef-a410-829b9de2a2f9"
      },
      "execution_count": null,
      "outputs": [
        {
          "output_type": "stream",
          "name": "stdout",
          "text": [
            "Hello, Sompa!\n"
          ]
        }
      ]
    },
    {
      "cell_type": "code",
      "source": [
        "# ✅ Function with Return Value\n",
        "def add(a, b):\n",
        "    return a + b\n",
        "\n",
        "result = add(5, 3)\n",
        "print(\"Sum is:\", result)"
      ],
      "metadata": {
        "colab": {
          "base_uri": "https://localhost:8080/"
        },
        "id": "GatT8MT9sMvc",
        "outputId": "36bac2e8-c06f-4326-96df-b170c8762997"
      },
      "execution_count": null,
      "outputs": [
        {
          "output_type": "stream",
          "name": "stdout",
          "text": [
            "Sum is: 8\n"
          ]
        }
      ]
    },
    {
      "cell_type": "code",
      "source": [
        "def add(a, b):\n",
        "  return a+b\n",
        "result = add(5, 3)\n",
        "print(\"Sum is:\", result)"
      ],
      "metadata": {
        "colab": {
          "base_uri": "https://localhost:8080/"
        },
        "id": "xsyyRGlKsPZ0",
        "outputId": "0be97582-1a21-4212-95a8-91f2e0c9f65b"
      },
      "execution_count": null,
      "outputs": [
        {
          "output_type": "stream",
          "name": "stdout",
          "text": [
            "Sum is: 8\n"
          ]
        }
      ]
    },
    {
      "cell_type": "code",
      "source": [
        "# Function with Default Parameters\n",
        "def greet(name=\"Guest\"):\n",
        "  print(f\"Hello, {name}!\")\n",
        "\n",
        "greet()\n",
        "greet(\"Sompa\")"
      ],
      "metadata": {
        "colab": {
          "base_uri": "https://localhost:8080/"
        },
        "id": "Mic15pyPsyPU",
        "outputId": "985f90d8-8e74-453b-9aa4-6f7e99ad478a"
      },
      "execution_count": null,
      "outputs": [
        {
          "output_type": "stream",
          "name": "stdout",
          "text": [
            "Hello, Guest!\n",
            "Hello, Sompa!\n"
          ]
        }
      ]
    },
    {
      "cell_type": "code",
      "source": [
        "# ✅ Function with Keyword Arguments\n",
        "def info(name, age):\n",
        "    print(f\"Name: {name}, Age: {age}\")\n",
        "\n",
        "info(age=25, name=\"Ali\")"
      ],
      "metadata": {
        "colab": {
          "base_uri": "https://localhost:8080/"
        },
        "id": "AoqVpLUFtPfc",
        "outputId": "e72e7d30-2b4a-478f-fb91-fc02a6abc41e"
      },
      "execution_count": null,
      "outputs": [
        {
          "output_type": "stream",
          "name": "stdout",
          "text": [
            "Name: Ali, Age: 25\n"
          ]
        }
      ]
    },
    {
      "cell_type": "code",
      "source": [
        "#Function with keywords Arguments\n",
        "def info(name, age):\n",
        "  print(f\"Name: {name}, Age: {age}\")\n",
        "\n",
        "info(age=21, name=\"Sompa\")"
      ],
      "metadata": {
        "colab": {
          "base_uri": "https://localhost:8080/"
        },
        "id": "H_Dj3ntPtYAd",
        "outputId": "548cc771-d171-469e-9adc-fa7871491d19"
      },
      "execution_count": null,
      "outputs": [
        {
          "output_type": "stream",
          "name": "stdout",
          "text": [
            "Name: Sompa, Age: 21\n"
          ]
        }
      ]
    },
    {
      "cell_type": "code",
      "source": [
        "# ✅ Function with *args (Multiple Positional Arguments)\n",
        "def total(*numbers):\n",
        "    print(\"Sum is:\", sum(numbers))\n",
        "\n",
        "total(1, 2, 3, 4, 5)"
      ],
      "metadata": {
        "colab": {
          "base_uri": "https://localhost:8080/"
        },
        "id": "APzitTrptrzb",
        "outputId": "30f540f1-6023-45af-f708-ff15e89e6ccb"
      },
      "execution_count": null,
      "outputs": [
        {
          "output_type": "stream",
          "name": "stdout",
          "text": [
            "Sum is: 15\n"
          ]
        }
      ]
    },
    {
      "cell_type": "code",
      "source": [
        "# ✅ Function with **kwargs (Multiple Keyword Arguments)\n",
        "def profile(**details):\n",
        "  for key, value in details.items():\n",
        "    print(f\"{key}: {value}\")\n",
        "\n",
        "profile(name=\"Sompa\", age=21, country=\"India\")"
      ],
      "metadata": {
        "colab": {
          "base_uri": "https://localhost:8080/"
        },
        "id": "rLfbzaew8yBF",
        "outputId": "769cbc41-00b2-4ec5-fbbb-7fbe4f8bbdbc"
      },
      "execution_count": null,
      "outputs": [
        {
          "output_type": "stream",
          "name": "stdout",
          "text": [
            "name: Sompa\n",
            "age: 21\n",
            "country: India\n"
          ]
        }
      ]
    },
    {
      "cell_type": "code",
      "source": [
        "#Lambda/Anonymous Functions\n",
        "\n",
        "square = lambda x: x*x\n",
        "print(square(5))\n",
        "\n",
        "add = lambda a, b: a+b\n",
        "print(add(3,4))"
      ],
      "metadata": {
        "colab": {
          "base_uri": "https://localhost:8080/"
        },
        "id": "K1IzESoF9z8H",
        "outputId": "3c7ea927-21b0-43da-cded-88413d7f0a67"
      },
      "execution_count": null,
      "outputs": [
        {
          "output_type": "stream",
          "name": "stdout",
          "text": [
            "25\n",
            "7\n"
          ]
        }
      ]
    },
    {
      "cell_type": "code",
      "source": [
        "# ✅ Higher-Order Function (Function takes another function)\n",
        "def apply(func, value):\n",
        "    return func(value)\n",
        "\n",
        "def double(x):\n",
        "    return x * 2\n",
        "\n",
        "print(apply(double, 10))"
      ],
      "metadata": {
        "colab": {
          "base_uri": "https://localhost:8080/"
        },
        "id": "5V23M3cA-GLD",
        "outputId": "74155825-a2ba-48ca-8534-31cef97e4048"
      },
      "execution_count": null,
      "outputs": [
        {
          "output_type": "stream",
          "name": "stdout",
          "text": [
            "20\n"
          ]
        }
      ]
    },
    {
      "cell_type": "code",
      "source": [],
      "metadata": {
        "id": "vWm1XJDH-gzY"
      },
      "execution_count": null,
      "outputs": []
    }
  ]
}