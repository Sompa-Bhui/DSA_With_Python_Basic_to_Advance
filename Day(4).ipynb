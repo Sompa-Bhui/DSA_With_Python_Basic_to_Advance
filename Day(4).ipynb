{
  "nbformat": 4,
  "nbformat_minor": 0,
  "metadata": {
    "colab": {
      "provenance": [],
      "authorship_tag": "ABX9TyO5y1gPlV0N/G+v5rEeHqz8",
      "include_colab_link": true
    },
    "kernelspec": {
      "name": "python3",
      "display_name": "Python 3"
    },
    "language_info": {
      "name": "python"
    }
  },
  "cells": [
    {
      "cell_type": "markdown",
      "metadata": {
        "id": "view-in-github",
        "colab_type": "text"
      },
      "source": [
        "<a href=\"https://colab.research.google.com/github/Sompa-Bhui/DSA_With_Python_Basic_to_Advance/blob/main/Day(4).ipynb\" target=\"_parent\"><img src=\"https://colab.research.google.com/assets/colab-badge.svg\" alt=\"Open In Colab\"/></a>"
      ]
    },
    {
      "cell_type": "markdown",
      "source": [
        "# List:-\n"
      ],
      "metadata": {
        "id": "4EcJ3F89_ASJ"
      }
    },
    {
      "cell_type": "code",
      "source": [
        "# marks1 = 94.4\n",
        "# marks2 = 87\n",
        "# marks3 = 95.5\n",
        "# marks4 = 66.3\n",
        "# marks5 = 45.1\n",
        "\n",
        "marks = [94.4, 87, 95.5, 66.3, 45.1]\n",
        "print(marks)\n",
        "print(type(marks))\n",
        "len(marks)\n",
        "print(marks[0])\n",
        "print(marks[1])\n",
        "print(marks[2])\n",
        "print(marks[3])\n",
        "print(marks[4])"
      ],
      "metadata": {
        "colab": {
          "base_uri": "https://localhost:8080/"
        },
        "id": "jN-1U4H0_FRc",
        "outputId": "b92adac7-f7e0-45cb-f083-d36e01f5b2d1"
      },
      "execution_count": null,
      "outputs": [
        {
          "output_type": "stream",
          "name": "stdout",
          "text": [
            "[94.4, 87, 95.5, 66.3, 45.1]\n",
            "<class 'list'>\n",
            "94.4\n",
            "87\n",
            "95.5\n",
            "66.3\n",
            "45.1\n"
          ]
        }
      ]
    },
    {
      "cell_type": "code",
      "source": [
        "student = [\"Sompa\", 95, 21, \"Jamshedpur\"]\n",
        "\n",
        "student[0] = \"Moni\"\n",
        "\n",
        "print(student)"
      ],
      "metadata": {
        "colab": {
          "base_uri": "https://localhost:8080/"
        },
        "id": "zhmm5OX_Ce6F",
        "outputId": "5c9b678f-aec3-4d4d-b064-f1076f179d2a"
      },
      "execution_count": null,
      "outputs": [
        {
          "output_type": "stream",
          "name": "stdout",
          "text": [
            "['Moni', 95, 21, 'Jamshedpur']\n"
          ]
        }
      ]
    },
    {
      "cell_type": "code",
      "source": [
        "marks = [85, 94, 76, 63, 48]\n",
        "print(marks[1:])\n",
        "print(marks[:4])\n",
        "print(marks[1:4])\n",
        "print(marks[-3:-1])"
      ],
      "metadata": {
        "colab": {
          "base_uri": "https://localhost:8080/"
        },
        "id": "71CYjPPpJyjT",
        "outputId": "470a092c-5209-4fba-daeb-7bef0909a99e"
      },
      "execution_count": null,
      "outputs": [
        {
          "output_type": "stream",
          "name": "stdout",
          "text": [
            "[94, 76, 63, 48]\n",
            "[85, 94, 76, 63]\n",
            "[94, 76, 63]\n",
            "[76, 63]\n"
          ]
        }
      ]
    },
    {
      "cell_type": "code",
      "source": [
        "list = [2,1,3]\n",
        "list.append(4)\n",
        "print(list)\n",
        "print(list.append(5))\n",
        "print(list)\n",
        "print(list.sort())\n",
        "print(list)\n",
        "\n"
      ],
      "metadata": {
        "colab": {
          "base_uri": "https://localhost:8080/"
        },
        "id": "XfAcQNjOcFr0",
        "outputId": "71168a0f-55ca-4f9d-a03d-82365eabac9d"
      },
      "execution_count": null,
      "outputs": [
        {
          "output_type": "stream",
          "name": "stdout",
          "text": [
            "[2, 1, 3, 4]\n",
            "None\n",
            "[2, 1, 3, 4, 5]\n",
            "None\n",
            "[1, 2, 3, 4, 5]\n"
          ]
        }
      ]
    },
    {
      "cell_type": "code",
      "source": [
        "list = [2,1,3]\n",
        "list.sort(reverse=True)\n",
        "print(list)"
      ],
      "metadata": {
        "colab": {
          "base_uri": "https://localhost:8080/"
        },
        "id": "W1T1pNkPeLBn",
        "outputId": "5069e45f-11e1-4283-dfdd-f5ea266b54ef"
      },
      "execution_count": null,
      "outputs": [
        {
          "output_type": "stream",
          "name": "stdout",
          "text": [
            "[3, 2, 1]\n"
          ]
        }
      ]
    },
    {
      "cell_type": "code",
      "source": [
        "list = [\"banana\", \"litchi\", \"apple\"]\n",
        "print(list.sort())\n",
        "print(list)"
      ],
      "metadata": {
        "colab": {
          "base_uri": "https://localhost:8080/"
        },
        "id": "1eZwiFkLfI1o",
        "outputId": "29a6f571-d8b5-48cd-a006-39366162a40e"
      },
      "execution_count": null,
      "outputs": [
        {
          "output_type": "stream",
          "name": "stdout",
          "text": [
            "None\n",
            "['apple', 'banana', 'litchi']\n"
          ]
        }
      ]
    },
    {
      "cell_type": "code",
      "source": [
        "list = ['a', 'd', 'e', 'f', 'c', 'b']\n",
        "list.sort(reverse=True)\n",
        "print(list)\n",
        "list.sort()\n",
        "print(list)\n",
        "list.reverse()\n",
        "print(list)"
      ],
      "metadata": {
        "colab": {
          "base_uri": "https://localhost:8080/"
        },
        "id": "TqUYAK8bfZUR",
        "outputId": "3a8d5ed2-8eb1-44c1-b322-7ae3cbb62d54"
      },
      "execution_count": null,
      "outputs": [
        {
          "output_type": "stream",
          "name": "stdout",
          "text": [
            "['f', 'e', 'd', 'c', 'b', 'a']\n",
            "['a', 'b', 'c', 'd', 'e', 'f']\n",
            "['f', 'e', 'd', 'c', 'b', 'a']\n"
          ]
        }
      ]
    },
    {
      "cell_type": "code",
      "source": [
        "list = [2,1,3]\n",
        "list.insert(1,5)\n",
        "print(list)"
      ],
      "metadata": {
        "colab": {
          "base_uri": "https://localhost:8080/"
        },
        "id": "RAoUt-6pfrna",
        "outputId": "8d08b0ed-a281-4341-d483-56fab10b9591"
      },
      "execution_count": null,
      "outputs": [
        {
          "output_type": "stream",
          "name": "stdout",
          "text": [
            "[2, 5, 1, 3]\n"
          ]
        }
      ]
    },
    {
      "cell_type": "code",
      "source": [
        "list = [2,1,3,1]\n",
        "list.pop(0)\n",
        "print(list)"
      ],
      "metadata": {
        "colab": {
          "base_uri": "https://localhost:8080/"
        },
        "id": "dWDGvYylgboy",
        "outputId": "b46236ec-7354-4a48-dc4d-6e612aca6067"
      },
      "execution_count": null,
      "outputs": [
        {
          "output_type": "stream",
          "name": "stdout",
          "text": [
            "[1, 3, 1]\n"
          ]
        }
      ]
    },
    {
      "cell_type": "code",
      "source": [
        "a = [1, 2, 3]\n",
        "b = a            # reference copy (same memory)\n",
        "c = a.copy()     # actual copy\n",
        "d = list(a)      # another way\n"
      ],
      "metadata": {
        "id": "H9p7i55ms3id"
      },
      "execution_count": null,
      "outputs": []
    },
    {
      "cell_type": "code",
      "source": [
        "fruits = [\"apple\", \"banana\", \"mango\"]\n",
        "\n",
        "# For loop\n",
        "for f in fruits:\n",
        "    print(f)\n",
        "\n",
        "# With index\n",
        "for i in range(len(fruits)):\n",
        "    print(i, fruits[i])"
      ],
      "metadata": {
        "colab": {
          "base_uri": "https://localhost:8080/"
        },
        "id": "3amrgqdbyFsI",
        "outputId": "a1bf6b6e-0c1d-430a-94e9-06d34c1cd7e2"
      },
      "execution_count": null,
      "outputs": [
        {
          "output_type": "stream",
          "name": "stdout",
          "text": [
            "apple\n",
            "banana\n",
            "mango\n",
            "0 apple\n",
            "1 banana\n",
            "2 mango\n"
          ]
        }
      ]
    },
    {
      "cell_type": "markdown",
      "source": [
        "# Tuples"
      ],
      "metadata": {
        "id": "OaQnUfKa6imK"
      }
    },
    {
      "cell_type": "code",
      "source": [
        "tup = (2,1,3,1)\n",
        "print(type(tup))\n",
        "print(tup[0])\n",
        "print(tup[1])\n",
        "print(tup[2])\n",
        "print(tup[3])"
      ],
      "metadata": {
        "colab": {
          "base_uri": "https://localhost:8080/"
        },
        "id": "S11tngWyyruQ",
        "outputId": "407439e4-983e-44b7-d6ee-97376ee86032"
      },
      "execution_count": null,
      "outputs": [
        {
          "output_type": "stream",
          "name": "stdout",
          "text": [
            "<class 'tuple'>\n",
            "2\n",
            "1\n",
            "3\n",
            "1\n"
          ]
        }
      ]
    },
    {
      "cell_type": "code",
      "source": [
        "tup = ()\n",
        "print(tup)"
      ],
      "metadata": {
        "colab": {
          "base_uri": "https://localhost:8080/"
        },
        "id": "EpikuOW-6r98",
        "outputId": "edfcc5bf-33d9-4655-c384-803846cc61cf"
      },
      "execution_count": null,
      "outputs": [
        {
          "output_type": "stream",
          "name": "stdout",
          "text": [
            "()\n"
          ]
        }
      ]
    },
    {
      "cell_type": "code",
      "source": [
        "tup1 = (1)\n",
        "print(type(tup1))\n",
        "\n",
        "tup2 = (1,)\n",
        "print(type(tup2))\n",
        "\n",
        "tup3 = (\"1\")\n",
        "print(type(tup3))\n",
        "\n",
        "tup4 = (\"1\",)\n",
        "print(type(tup4))"
      ],
      "metadata": {
        "colab": {
          "base_uri": "https://localhost:8080/"
        },
        "id": "dfriqy8P7DAY",
        "outputId": "82f190b7-a00e-4ddf-ba51-4ed182fbe567"
      },
      "execution_count": null,
      "outputs": [
        {
          "output_type": "stream",
          "name": "stdout",
          "text": [
            "<class 'int'>\n",
            "<class 'tuple'>\n",
            "<class 'str'>\n",
            "<class 'tuple'>\n"
          ]
        }
      ]
    },
    {
      "cell_type": "code",
      "source": [
        "tup=(1,2,3,4)\n",
        "print(tup[1:3])"
      ],
      "metadata": {
        "colab": {
          "base_uri": "https://localhost:8080/"
        },
        "id": "HI-8AabrDKBW",
        "outputId": "6dba6363-88ae-4357-973e-4796535991db"
      },
      "execution_count": null,
      "outputs": [
        {
          "output_type": "stream",
          "name": "stdout",
          "text": [
            "(2, 3)\n"
          ]
        }
      ]
    },
    {
      "cell_type": "code",
      "source": [
        "tup = (1,2,3,4)\n",
        "print(tup.index(2)) #element 2, index 1 position main hai"
      ],
      "metadata": {
        "colab": {
          "base_uri": "https://localhost:8080/"
        },
        "id": "Dfuerkm5Dlvu",
        "outputId": "1fc590cd-e646-499f-8c2e-e139916d6746"
      },
      "execution_count": null,
      "outputs": [
        {
          "output_type": "stream",
          "name": "stdout",
          "text": [
            "1\n"
          ]
        }
      ]
    },
    {
      "cell_type": "code",
      "source": [
        "tup = (1,2, 3 ,4 ,1)\n",
        "print(tup.count(1))"
      ],
      "metadata": {
        "colab": {
          "base_uri": "https://localhost:8080/"
        },
        "id": "RPEzT77-J6-K",
        "outputId": "3d1b5033-86d2-48ec-9480-ceb3f1dfbb91"
      },
      "execution_count": null,
      "outputs": [
        {
          "output_type": "stream",
          "name": "stdout",
          "text": [
            "2\n"
          ]
        }
      ]
    },
    {
      "cell_type": "code",
      "source": [
        "# WAP to ask the user to enter names of their 3 favorite movies and store them in List.\n",
        "\n",
        "movies = []\n",
        "mov1 = input(\"Enter First movie: \")\n",
        "mov2 = input(\"Enter second movie: \")\n",
        "mov3 = input(\"Enter third movie:\")\n",
        "\n",
        "movies.append(mov1)\n",
        "movies.append(mov2)\n",
        "movies.append(mov3)\n",
        "print(movies)"
      ],
      "metadata": {
        "colab": {
          "base_uri": "https://localhost:8080/"
        },
        "id": "f0HAjEKgKd3P",
        "outputId": "3af4888d-3469-4fd2-ae6e-20e292934db4"
      },
      "execution_count": null,
      "outputs": [
        {
          "output_type": "stream",
          "name": "stdout",
          "text": [
            "Enter First movie: 3 Idiot\n",
            "Enter second movie: Luck\n",
            "Enter third movie:No Problem\n",
            "['3 Idiot', 'Luck', 'No Problem']\n"
          ]
        }
      ]
    },
    {
      "cell_type": "code",
      "source": [
        "movies  = []\n",
        "movies.append(input(\"Enter 1st movie: \"))\n",
        "movies.append(input(\"Enter 2nd movie: \"))\n",
        "movies.append(input(\"Enter 3rd movie: \"))\n",
        "\n",
        "print(movies)"
      ],
      "metadata": {
        "colab": {
          "base_uri": "https://localhost:8080/"
        },
        "id": "g18glYkqLWNK",
        "outputId": "0bce8a2f-b08d-4a3b-fda2-2d8dac285c3c"
      },
      "execution_count": null,
      "outputs": [
        {
          "output_type": "stream",
          "name": "stdout",
          "text": [
            "Enter 1st movie: lucy\n",
            "Enter 2nd movie: luck\n",
            "Enter 3rd movie: NP\n",
            "['lucy', 'luck', 'NP']\n"
          ]
        }
      ]
    },
    {
      "cell_type": "code",
      "source": [
        "# WAP to check if a list contains a palindrome of elements. (Hint: use copy() method)\n",
        "# [1,2,3,2,1] [1, \"abc\", \"abc\", 1]\n",
        "\n",
        "list = [1,2,1,2,1]\n",
        "list_copy = list.copy()\n",
        "list_copy.reverse()\n",
        "\n",
        "if list == list_copy:\n",
        "  print(\"List is palindrome\")\n",
        "else:\n",
        "  print(\"List is not palindrome\")"
      ],
      "metadata": {
        "colab": {
          "base_uri": "https://localhost:8080/"
        },
        "id": "GT_RAfnnMi6a",
        "outputId": "5e0b062a-2f13-4001-bdf9-f26f65037641"
      },
      "execution_count": 2,
      "outputs": [
        {
          "output_type": "stream",
          "name": "stdout",
          "text": [
            "List is palindrome\n"
          ]
        }
      ]
    },
    {
      "cell_type": "code",
      "source": [
        "# WAP to count the number of student with the \"A\" grade in the following tuple\n",
        "# [\"C\",\"D\",\"A\", \"A\", \"B\", \"B\", \"A\"]\n",
        "\n",
        "grade = (\"C\",\"D\",\"A\", \"A\", \"B\", \"B\", \"A\")\n",
        "print(grade.count(\"A\"))"
      ],
      "metadata": {
        "id": "vM5S5OlcOL6T",
        "colab": {
          "base_uri": "https://localhost:8080/"
        },
        "outputId": "aedc2595-dbc8-4b10-dc30-5807cbc9dc2b"
      },
      "execution_count": 6,
      "outputs": [
        {
          "output_type": "stream",
          "name": "stdout",
          "text": [
            "3\n"
          ]
        }
      ]
    },
    {
      "cell_type": "code",
      "source": [
        "#Store the above values in a list and sort them from \"A\" to \"D\"\n",
        "grade = [\"C\",\"D\",\"A\", \"A\", \"B\", \"B\", \"A\"]\n",
        "grade.sort()\n",
        "print(grade)"
      ],
      "metadata": {
        "colab": {
          "base_uri": "https://localhost:8080/"
        },
        "id": "O0zvn91YDjWp",
        "outputId": "36359545-b888-40f8-cbd1-8d1a12d811c6"
      },
      "execution_count": 4,
      "outputs": [
        {
          "output_type": "stream",
          "name": "stdout",
          "text": [
            "['A', 'A', 'A', 'B', 'B', 'C', 'D']\n"
          ]
        }
      ]
    },
    {
      "cell_type": "code",
      "source": [],
      "metadata": {
        "id": "aocvY1nmD3ND"
      },
      "execution_count": null,
      "outputs": []
    }
  ]
}