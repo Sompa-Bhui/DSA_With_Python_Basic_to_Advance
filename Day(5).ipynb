{
  "nbformat": 4,
  "nbformat_minor": 0,
  "metadata": {
    "colab": {
      "provenance": [],
      "authorship_tag": "ABX9TyMuNPFr3+RSBpaxhrz2Hnbb",
      "include_colab_link": true
    },
    "kernelspec": {
      "name": "python3",
      "display_name": "Python 3"
    },
    "language_info": {
      "name": "python"
    }
  },
  "cells": [
    {
      "cell_type": "markdown",
      "metadata": {
        "id": "view-in-github",
        "colab_type": "text"
      },
      "source": [
        "<a href=\"https://colab.research.google.com/github/Sompa-Bhui/DSA_With_Python_Basic_to_Advance/blob/main/Day(5).ipynb\" target=\"_parent\"><img src=\"https://colab.research.google.com/assets/colab-badge.svg\" alt=\"Open In Colab\"/></a>"
      ]
    },
    {
      "cell_type": "markdown",
      "source": [
        "# Dictionary"
      ],
      "metadata": {
        "id": "Ui6JTaRZEwyU"
      }
    },
    {
      "cell_type": "code",
      "source": [
        "info = {\n",
        "    \"key\" : \"value\",\n",
        "    \"name\" : \"SompaBhui\",\n",
        "    \"learning\" : \"Coding\",\n",
        "    \"age\" : 21,\n",
        "    \"is_adult\" : True,\n",
        "    \"marks\" : 98\n",
        "\n",
        "}\n",
        "\n",
        "print(info)"
      ],
      "metadata": {
        "colab": {
          "base_uri": "https://localhost:8080/"
        },
        "id": "U5ISUafYEzW4",
        "outputId": "44a7c3ff-1c14-40f9-d86e-8d4e201286b4"
      },
      "execution_count": null,
      "outputs": [
        {
          "output_type": "stream",
          "name": "stdout",
          "text": [
            "{'key': 'value', 'name': 'SompaBhui', 'learning': 'Coding', 'age': 21, 'is_adult': True, 'marks': 98}\n"
          ]
        }
      ]
    },
    {
      "cell_type": "code",
      "source": [
        "info = {\n",
        "    \"name\" : \"Sompa_Bhui\" ,\n",
        "    \"Subjects\" : [\"Python\", \"SQL\", \"Excel\"],\n",
        "    \"Field_of_interest\" : (\"Data_Science\", \"SDE\", \"Data_Analyst\"),\n",
        "    \"age\" : 21,\n",
        "    \"is_adult\" : True,\n",
        "    \"Cgpa\" : 8.6\n",
        "}\n",
        "\n",
        "info[\"name\"] = \"Sompa\"  #Overwrite\n",
        "info[\"surname\"] = \"Bhui\"\n",
        "\n",
        "\n",
        "print(info)\n",
        "print(info[\"name\"])\n",
        "print(info[\"Subjects\"])\n",
        "\n",
        "print(type(info))"
      ],
      "metadata": {
        "colab": {
          "base_uri": "https://localhost:8080/"
        },
        "id": "708HAHliHXoe",
        "outputId": "4543a593-b936-4f85-8c0b-38df90874585"
      },
      "execution_count": null,
      "outputs": [
        {
          "output_type": "stream",
          "name": "stdout",
          "text": [
            "{'name': 'Sompa', 'Subjects': ['Python', 'SQL', 'Excel'], 'Field_of_interest': ('Data_Science', 'SDE', 'Data_Analyst'), 'age': 21, 'is_adult': True, 'Cgpa': 8.6, 'surname': 'Bhui'}\n",
            "Sompa\n",
            "['Python', 'SQL', 'Excel']\n",
            "<class 'dict'>\n"
          ]
        }
      ]
    },
    {
      "cell_type": "code",
      "source": [
        "null_dict = {}\n",
        "null_dict[\"name\"] = \"Moni\"\n",
        "print(null_dict)\n",
        "print(type(null_dict))"
      ],
      "metadata": {
        "colab": {
          "base_uri": "https://localhost:8080/"
        },
        "id": "CgGf4g6oJjDZ",
        "outputId": "c58b1517-e15f-492d-def1-3ccc4c729aa6"
      },
      "execution_count": null,
      "outputs": [
        {
          "output_type": "stream",
          "name": "stdout",
          "text": [
            "{'name': 'Moni'}\n",
            "<class 'dict'>\n"
          ]
        }
      ]
    },
    {
      "cell_type": "code",
      "source": [
        "# Nested Dictionary\n",
        "student  = {\n",
        "    \"name\" : \"Bob\",\n",
        "    \"sub\" : {\n",
        "        \"phy\" : 91,\n",
        "        \"chm\" : 92,\n",
        "        \"math\" : 100\n",
        "    }\n",
        "}\n",
        "print(student)\n",
        "\n",
        "# print(student.keys())\n",
        "# print(list(student.keys()))  #typecasting\n",
        "# print(student.values())\n",
        "# print(list(student.values()))\n",
        "\n",
        "# print(len(student))\n",
        "# print(len(list(student.items())))\n",
        "\n",
        "# print(student.items())\n",
        "# print(list(student.items()))\n",
        "\n",
        "# pairs = list(student.items())\n",
        "# print(pairs[0])\n",
        "\n",
        "# print(student[\"name\"])\n",
        "# print(student.get(\"name\"))\n",
        "\n",
        "# print(student[\"name2\"])  #---->erroe\n",
        "print(student.get(\"name2\"))  #no error -->None\n",
        "\n",
        "student.update({\"city\" : \"delhi\"})\n",
        "print(student)"
      ],
      "metadata": {
        "colab": {
          "base_uri": "https://localhost:8080/"
        },
        "id": "WjGsASyyLScC",
        "outputId": "29cb08dc-059c-4ce6-fd79-22cd241eaf17"
      },
      "execution_count": null,
      "outputs": [
        {
          "output_type": "stream",
          "name": "stdout",
          "text": [
            "{'name': 'Bob', 'sub': {'phy': 91, 'chm': 92, 'math': 100}}\n",
            "None\n",
            "{'name': 'Bob', 'sub': {'phy': 91, 'chm': 92, 'math': 100}, 'city': 'delhi'}\n"
          ]
        }
      ]
    },
    {
      "cell_type": "code",
      "source": [
        "student = {\"name\": \"Sompa\", \"age\": 21, \"marks\": 95}\n",
        "print(student)"
      ],
      "metadata": {
        "colab": {
          "base_uri": "https://localhost:8080/"
        },
        "id": "PJuVHRDYMw2-",
        "outputId": "a96eda0f-4c1e-4ced-a263-eef197407ff3"
      },
      "execution_count": null,
      "outputs": [
        {
          "output_type": "stream",
          "name": "stdout",
          "text": [
            "{'name': 'Sompa', 'age': 21, 'marks': 95}\n"
          ]
        }
      ]
    },
    {
      "cell_type": "code",
      "source": [
        "# Empty dictionary\n",
        "d = {}\n",
        "\n",
        "# With data\n",
        "person = {\"name\": \"Bob\", \"age\": 25}\n",
        "\n",
        "print(person)\n",
        "\n",
        "# Using dict() function\n",
        "data = dict(country=\"India\", capital=\"Delhi\")\n",
        "\n",
        "print(data)"
      ],
      "metadata": {
        "colab": {
          "base_uri": "https://localhost:8080/"
        },
        "id": "VXFNMpCHXIMn",
        "outputId": "ab5caf17-26cb-4c65-a829-a8a0a6016e0c"
      },
      "execution_count": null,
      "outputs": [
        {
          "output_type": "stream",
          "name": "stdout",
          "text": [
            "{'name': 'Bob', 'age': 25}\n",
            "{'country': 'India', 'capital': 'Delhi'}\n"
          ]
        }
      ]
    },
    {
      "cell_type": "code",
      "source": [
        "student = {\"name\": \"Sompa\", \"age\": 21, \"marks\": 95}\n",
        "\n",
        "print(student[\"name\"])      # Sompa\n",
        "print(student.get(\"age\"))   # 21\n",
        "print(student.get(\"city\", \"Not Found\"))  # safe access with default"
      ],
      "metadata": {
        "colab": {
          "base_uri": "https://localhost:8080/"
        },
        "id": "W9ifrjG5XLDV",
        "outputId": "9f45b91e-0236-4941-b8ea-22d1d7892a74"
      },
      "execution_count": null,
      "outputs": [
        {
          "output_type": "stream",
          "name": "stdout",
          "text": [
            "Sompa\n",
            "21\n",
            "Not Found\n"
          ]
        }
      ]
    },
    {
      "cell_type": "code",
      "source": [
        "student = {\"name\": \"Sompa\", \"age\": 21}\n",
        "\n",
        "student[\"marks\"] = 90        # add new key\n",
        "student[\"age\"] = 22          # update existing key\n",
        "\n",
        "print(student)  # {'name': 'Sompa', 'age': 22, 'marks': 90}"
      ],
      "metadata": {
        "colab": {
          "base_uri": "https://localhost:8080/"
        },
        "id": "nq0RrtcQXR0G",
        "outputId": "4adf2a0a-4bea-4902-af29-f30897f651dc"
      },
      "execution_count": null,
      "outputs": [
        {
          "output_type": "stream",
          "name": "stdout",
          "text": [
            "{'name': 'Sompa', 'age': 22, 'marks': 90}\n"
          ]
        }
      ]
    },
    {
      "cell_type": "code",
      "source": [
        "student = {\"name\": \"Alice\", \"age\": 22, \"marks\": 90}\n",
        "\n",
        "student.pop(\"age\")     # remove by key\n",
        "student.popitem()      # remove last inserted item\n",
        "del student[\"name\"]    # delete using del\n",
        "student.clear()        # remove all\n",
        "\n",
        "print(student)"
      ],
      "metadata": {
        "colab": {
          "base_uri": "https://localhost:8080/"
        },
        "id": "cAHcRqjRXU7S",
        "outputId": "1824bfd8-eb13-4866-eea4-5827fe2928b2"
      },
      "execution_count": null,
      "outputs": [
        {
          "output_type": "stream",
          "name": "stdout",
          "text": [
            "{}\n"
          ]
        }
      ]
    },
    {
      "cell_type": "code",
      "source": [
        "student = {\"name\": \"Alice\", \"age\": 22, \"marks\": 90}\n",
        "\n",
        "# Loop through keys\n",
        "for key in student:\n",
        "    print(key)\n",
        "\n",
        "# Loop through values\n",
        "for value in student.values():\n",
        "    print(value)\n",
        "\n",
        "# Loop through key-value pairs\n",
        "for key, value in student.items():\n",
        "    print(key, \":\", value)"
      ],
      "metadata": {
        "colab": {
          "base_uri": "https://localhost:8080/"
        },
        "id": "RlDI5RgbXXsR",
        "outputId": "18d0f6ad-e476-4f73-ac71-300a504a7843"
      },
      "execution_count": null,
      "outputs": [
        {
          "output_type": "stream",
          "name": "stdout",
          "text": [
            "name\n",
            "age\n",
            "marks\n",
            "Alice\n",
            "22\n",
            "90\n",
            "name : Alice\n",
            "age : 22\n",
            "marks : 90\n"
          ]
        }
      ]
    },
    {
      "cell_type": "code",
      "source": [
        "student = {\"name\": \"Alice\", \"age\": 22}\n",
        "\n",
        "print(student.keys())     # dict_keys(['name', 'age'])\n",
        "print(student.values())   # dict_values(['Alice', 22])\n",
        "print(student.items())    # dict_items([('name', 'Alice'), ('age', 22)])"
      ],
      "metadata": {
        "colab": {
          "base_uri": "https://localhost:8080/"
        },
        "id": "jm2OrZPuXiIE",
        "outputId": "2493f9f1-36ef-40cc-aaca-6facf44c3679"
      },
      "execution_count": null,
      "outputs": [
        {
          "output_type": "stream",
          "name": "stdout",
          "text": [
            "dict_keys(['name', 'age'])\n",
            "dict_values(['Alice', 22])\n",
            "dict_items([('name', 'Alice'), ('age', 22)])\n"
          ]
        }
      ]
    },
    {
      "cell_type": "code",
      "source": [
        "students = {\n",
        "    \"101\": {\"name\": \"Alice\", \"marks\": 95},\n",
        "    \"102\": {\"name\": \"Bob\", \"marks\": 88}\n",
        "}\n",
        "\n",
        "print(students[\"101\"][\"name\"])  # Alice"
      ],
      "metadata": {
        "colab": {
          "base_uri": "https://localhost:8080/"
        },
        "id": "Gzb89SoNXkDL",
        "outputId": "9e4ce4db-e73f-462f-fc4c-e90226c7566b"
      },
      "execution_count": null,
      "outputs": [
        {
          "output_type": "stream",
          "name": "stdout",
          "text": [
            "Alice\n"
          ]
        }
      ]
    },
    {
      "cell_type": "code",
      "source": [],
      "metadata": {
        "id": "g-ZQVVY6XnwZ"
      },
      "execution_count": null,
      "outputs": []
    },
    {
      "cell_type": "markdown",
      "source": [
        "# Set"
      ],
      "metadata": {
        "id": "K6BsCrcLY5ED"
      }
    },
    {
      "cell_type": "code",
      "source": [
        "collection = {1,2,3,4}\n",
        "print(collection)\n",
        "print(type(collection))"
      ],
      "metadata": {
        "colab": {
          "base_uri": "https://localhost:8080/"
        },
        "id": "_G0uq4swY7wr",
        "outputId": "b7d1b064-6ecc-466a-cc43-b878e5745598"
      },
      "execution_count": null,
      "outputs": [
        {
          "output_type": "stream",
          "name": "stdout",
          "text": [
            "{1, 2, 3, 4}\n",
            "<class 'set'>\n"
          ]
        }
      ]
    },
    {
      "cell_type": "code",
      "source": [
        "collection = {1, 2, 2, 2, 3, 4, \"hello\", \"world\"}\n",
        "print(collection)\n",
        "print(len(collection))\n"
      ],
      "metadata": {
        "colab": {
          "base_uri": "https://localhost:8080/"
        },
        "id": "y-tSjGPEZEg_",
        "outputId": "e1d617d0-a7bc-450e-fdae-f9ffba85df06"
      },
      "execution_count": null,
      "outputs": [
        {
          "output_type": "stream",
          "name": "stdout",
          "text": [
            "{1, 2, 3, 4, 'world', 'hello'}\n",
            "6\n"
          ]
        }
      ]
    },
    {
      "cell_type": "code",
      "source": [
        "collection = set()    #empty set; syntexx\n",
        "collection1 = {}\n",
        "print(type(collection))\n",
        "print(type(collection1))"
      ],
      "metadata": {
        "colab": {
          "base_uri": "https://localhost:8080/"
        },
        "id": "1mDII6sGa4M4",
        "outputId": "cdebaf63-4497-454e-a592-2e268cfb41e2"
      },
      "execution_count": null,
      "outputs": [
        {
          "output_type": "stream",
          "name": "stdout",
          "text": [
            "<class 'set'>\n",
            "<class 'dict'>\n"
          ]
        }
      ]
    },
    {
      "cell_type": "code",
      "source": [
        "collection = set()\n",
        "collection.add(1)\n",
        "collection.add(2)\n",
        "collection.add(2)\n",
        "\n",
        "collection.remove(1)\n",
        "\n",
        "collection.add(\"sompa\")\n",
        "collection.add((1,2,3))\n",
        "# collection.add([1,2,3])   -->can't add list on set, bcz list is mutable\n",
        "print(collection)"
      ],
      "metadata": {
        "colab": {
          "base_uri": "https://localhost:8080/"
        },
        "id": "zmaiwnoib1Ja",
        "outputId": "cf1b29a8-3eda-49dd-c86e-6a499de18e32"
      },
      "execution_count": null,
      "outputs": [
        {
          "output_type": "stream",
          "name": "stdout",
          "text": [
            "{2, (1, 2, 3), 'sompa'}\n"
          ]
        }
      ]
    },
    {
      "cell_type": "code",
      "source": [
        "collection = {\"hello\", \"moni\", \"world\", \"coding\", \"python\"}\n",
        "\n",
        "print(collection.pop())\n",
        "print(collection.pop())"
      ],
      "metadata": {
        "colab": {
          "base_uri": "https://localhost:8080/"
        },
        "id": "qAzH0XQBdbyH",
        "outputId": "975100d8-a0d1-453e-b273-8e28cc3f49b5"
      },
      "execution_count": null,
      "outputs": [
        {
          "output_type": "stream",
          "name": "stdout",
          "text": [
            "coding\n",
            "python\n"
          ]
        }
      ]
    },
    {
      "cell_type": "code",
      "source": [
        "set1 = {1,2,3}\n",
        "set2 = {3,4,5}\n",
        "print(set1.union(set2))\n",
        "print(set1.intersection(set2))\n",
        "print(set1.difference(set2))\n",
        "\n",
        "print(set1)\n",
        "print(set2)"
      ],
      "metadata": {
        "colab": {
          "base_uri": "https://localhost:8080/"
        },
        "id": "PD5SsvXmeoqN",
        "outputId": "90118f2a-1861-4d54-dee5-45f8d066bd5a"
      },
      "execution_count": null,
      "outputs": [
        {
          "output_type": "stream",
          "name": "stdout",
          "text": [
            "{1, 2, 3, 4, 5}\n",
            "{3}\n",
            "{1, 2}\n",
            "{1, 2, 3}\n",
            "{3, 4, 5}\n"
          ]
        }
      ]
    },
    {
      "cell_type": "code",
      "source": [
        "# Store following word meanings in a python dictionary\n",
        "# table : \"a piece of furniture\", :list of facts & figures\"\n",
        "#cat: \"a small animal\"\n",
        "\n",
        "dict = {\n",
        "    \"cat\" : \"a small animal:\",\n",
        "    \"table\" : [\"a piece of furniture\", \"list of facts & figures\"]\n",
        "}\n",
        "\n",
        "print(dict)"
      ],
      "metadata": {
        "colab": {
          "base_uri": "https://localhost:8080/"
        },
        "id": "H1O3PYaZfbz1",
        "outputId": "4d3648e3-35a6-4e43-ed4c-8f8ebdfcbd6f"
      },
      "execution_count": null,
      "outputs": [
        {
          "output_type": "stream",
          "name": "stdout",
          "text": [
            "{'cat': 'a small animal:', 'table': ['a piece of furniture', 'list of facts & figures']}\n"
          ]
        }
      ]
    },
    {
      "cell_type": "code",
      "source": [
        "# You are given a list of subjects for students. Assume one classroom is required for 1 subjects. How many classrooms are needed by all srudents\n",
        "# \"python\", \"java\", \"C++\", \"python\", \"javascript\",\n",
        "# \"java\", \"python\", \"java\", \"C++\", \"C\"\n",
        "\n",
        "subjects = {\n",
        "    \"python\", \"java\", \"C++\", \"python\", \"javascript\", \"java\", \"python\", \"java\", \"C++\", \"C\"\n",
        "}\n",
        "\n",
        "print(len(subjects))\n"
      ],
      "metadata": {
        "colab": {
          "base_uri": "https://localhost:8080/"
        },
        "id": "Nfv6Di8znZW5",
        "outputId": "419baa50-e141-4155-c3b8-87db5f660020"
      },
      "execution_count": null,
      "outputs": [
        {
          "output_type": "stream",
          "name": "stdout",
          "text": [
            "5\n"
          ]
        }
      ]
    },
    {
      "cell_type": "code",
      "source": [
        "#WAP to enter marks of 3 subjects from the user and store them in a Dictionary.\n",
        "#Start with an empty dictionary & add one by one . Use subject name as key &\n",
        "#marks as value\n",
        "\n",
        "\n",
        "marks = {}\n",
        "\n",
        "x = int(input(\"Enter marks of phy: \"))\n",
        "marks.update({\"phy\" : x})\n",
        "\n",
        "x = int(input(\"Enter marks of chem: \"))\n",
        "marks.update({\"chem\" : x})\n",
        "\n",
        "x = int(input(\"Enter marks of math: \"))\n",
        "marks.update({\"math\" : x})\n",
        "\n",
        "print(marks)"
      ],
      "metadata": {
        "colab": {
          "base_uri": "https://localhost:8080/"
        },
        "id": "mQBp4Vcxortc",
        "outputId": "ac94f9b3-0cd1-4794-e971-512fe09ad398"
      },
      "execution_count": null,
      "outputs": [
        {
          "output_type": "stream",
          "name": "stdout",
          "text": [
            "Enter marks of phy: 98\n",
            "Enter marks of chem: 97\n",
            "Enter marks of math: 96\n",
            "{'phy': 98, 'chem': 97, 'math': 96}\n"
          ]
        }
      ]
    },
    {
      "cell_type": "code",
      "source": [
        "values = {9, 9.0}\n",
        "print(values)"
      ],
      "metadata": {
        "colab": {
          "base_uri": "https://localhost:8080/"
        },
        "id": "k6vFMgkMrH3o",
        "outputId": "b98776a7-e907-439a-87ad-d10064316be9"
      },
      "execution_count": null,
      "outputs": [
        {
          "output_type": "stream",
          "name": "stdout",
          "text": [
            "{9}\n"
          ]
        }
      ]
    },
    {
      "cell_type": "code",
      "source": [
        "values = {9, \"9.0\"}\n",
        "print(values)"
      ],
      "metadata": {
        "colab": {
          "base_uri": "https://localhost:8080/"
        },
        "id": "_UM_FtPqr5S1",
        "outputId": "3c2c64fd-e64e-4792-f4a5-61cc73c0ca45"
      },
      "execution_count": null,
      "outputs": [
        {
          "output_type": "stream",
          "name": "stdout",
          "text": [
            "{9, '9.0'}\n"
          ]
        }
      ]
    },
    {
      "cell_type": "code",
      "source": [
        "a = int(input(\"Enter a number: \"))\n",
        "b = i=float(input(\"Enter a number:\"))\n",
        "print(a, b)"
      ],
      "metadata": {
        "colab": {
          "base_uri": "https://localhost:8080/"
        },
        "id": "TBNOxOTksAfZ",
        "outputId": "516cc64c-75c5-4d2d-8af6-13bf56e83e18"
      },
      "execution_count": null,
      "outputs": [
        {
          "output_type": "stream",
          "name": "stdout",
          "text": [
            "Enter a number: 9\n",
            "Enter a number:9.0\n",
            "9 9.0\n"
          ]
        }
      ]
    },
    {
      "cell_type": "code",
      "source": [],
      "metadata": {
        "id": "B-RFVp4qsSb2"
      },
      "execution_count": null,
      "outputs": []
    }
  ]
}