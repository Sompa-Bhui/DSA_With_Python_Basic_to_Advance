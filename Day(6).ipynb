{
  "nbformat": 4,
  "nbformat_minor": 0,
  "metadata": {
    "colab": {
      "provenance": [],
      "authorship_tag": "ABX9TyNloj85XaLFxoB0MA5KTbMg",
      "include_colab_link": true
    },
    "kernelspec": {
      "name": "python3",
      "display_name": "Python 3"
    },
    "language_info": {
      "name": "python"
    }
  },
  "cells": [
    {
      "cell_type": "markdown",
      "metadata": {
        "id": "view-in-github",
        "colab_type": "text"
      },
      "source": [
        "<a href=\"https://colab.research.google.com/github/Sompa-Bhui/DSA_With_Python_Basic_to_Advance/blob/main/Day(6).ipynb\" target=\"_parent\"><img src=\"https://colab.research.google.com/assets/colab-badge.svg\" alt=\"Open In Colab\"/></a>"
      ]
    },
    {
      "cell_type": "markdown",
      "source": [
        "# Loop"
      ],
      "metadata": {
        "id": "ZhEIJU5_5qXf"
      }
    },
    {
      "cell_type": "markdown",
      "source": [
        "# While Loop"
      ],
      "metadata": {
        "id": "Esk7p_Ew95ET"
      }
    },
    {
      "cell_type": "code",
      "source": [
        "# 1-5 print\n",
        "i=1\n",
        "while i<=5:\n",
        "  print(i)\n",
        "  i+=1\n",
        "print(\"Loop Ended\")"
      ],
      "metadata": {
        "colab": {
          "base_uri": "https://localhost:8080/"
        },
        "id": "rse06E-j6w-k",
        "outputId": "458d5be7-3b8e-4489-eb44-c02f9b15c6ea"
      },
      "execution_count": null,
      "outputs": [
        {
          "output_type": "stream",
          "name": "stdout",
          "text": [
            "1\n",
            "2\n",
            "3\n",
            "4\n",
            "5\n",
            "Loop Ended\n"
          ]
        }
      ]
    },
    {
      "cell_type": "code",
      "source": [
        "#print 5-1\n",
        "\n",
        "i=5\n",
        "while i>=1 :\n",
        "  print(i)\n",
        "  i -= 1\n"
      ],
      "metadata": {
        "colab": {
          "base_uri": "https://localhost:8080/"
        },
        "id": "N76BjQ777gqz",
        "outputId": "09d8100c-8e97-4fd5-da51-1ab5152fdc51"
      },
      "execution_count": null,
      "outputs": [
        {
          "output_type": "stream",
          "name": "stdout",
          "text": [
            "5\n",
            "4\n",
            "3\n",
            "2\n",
            "1\n"
          ]
        }
      ]
    },
    {
      "cell_type": "code",
      "source": [
        "# Infinite Loop\n",
        "# i=5\n",
        "# while i<6:\n",
        "#   print(i)\n",
        "#   i-=1\n",
        "\n",
        "# pribt(\"Loop end\")"
      ],
      "metadata": {
        "id": "Y7ZPbJ5-9Yzq"
      },
      "execution_count": null,
      "outputs": []
    },
    {
      "cell_type": "code",
      "source": [
        "# Prin tnumber from 1 to 100\n",
        "\n",
        "i=1\n",
        "while i<=100:\n",
        "  print(i)\n",
        "  i+=1"
      ],
      "metadata": {
        "colab": {
          "base_uri": "https://localhost:8080/"
        },
        "id": "8InQNa4m9m3n",
        "outputId": "d9f8e0f5-9054-4ca0-d10c-7de19998a66d"
      },
      "execution_count": null,
      "outputs": [
        {
          "output_type": "stream",
          "name": "stdout",
          "text": [
            "1\n",
            "2\n",
            "3\n",
            "4\n",
            "5\n",
            "6\n",
            "7\n",
            "8\n",
            "9\n",
            "10\n",
            "11\n",
            "12\n",
            "13\n",
            "14\n",
            "15\n",
            "16\n",
            "17\n",
            "18\n",
            "19\n",
            "20\n",
            "21\n",
            "22\n",
            "23\n",
            "24\n",
            "25\n",
            "26\n",
            "27\n",
            "28\n",
            "29\n",
            "30\n",
            "31\n",
            "32\n",
            "33\n",
            "34\n",
            "35\n",
            "36\n",
            "37\n",
            "38\n",
            "39\n",
            "40\n",
            "41\n",
            "42\n",
            "43\n",
            "44\n",
            "45\n",
            "46\n",
            "47\n",
            "48\n",
            "49\n",
            "50\n",
            "51\n",
            "52\n",
            "53\n",
            "54\n",
            "55\n",
            "56\n",
            "57\n",
            "58\n",
            "59\n",
            "60\n",
            "61\n",
            "62\n",
            "63\n",
            "64\n",
            "65\n",
            "66\n",
            "67\n",
            "68\n",
            "69\n",
            "70\n",
            "71\n",
            "72\n",
            "73\n",
            "74\n",
            "75\n",
            "76\n",
            "77\n",
            "78\n",
            "79\n",
            "80\n",
            "81\n",
            "82\n",
            "83\n",
            "84\n",
            "85\n",
            "86\n",
            "87\n",
            "88\n",
            "89\n",
            "90\n",
            "91\n",
            "92\n",
            "93\n",
            "94\n",
            "95\n",
            "96\n",
            "97\n",
            "98\n",
            "99\n",
            "100\n"
          ]
        }
      ]
    },
    {
      "cell_type": "code",
      "source": [
        "#Print 100 to 1\n",
        "\n",
        "i=100\n",
        "while i>=1:\n",
        "  print(i)\n",
        "  i-=1"
      ],
      "metadata": {
        "colab": {
          "base_uri": "https://localhost:8080/"
        },
        "id": "b8OK_UwR-Hu8",
        "outputId": "b80286bc-fe85-4bfc-c53f-6095012fb457"
      },
      "execution_count": null,
      "outputs": [
        {
          "output_type": "stream",
          "name": "stdout",
          "text": [
            "100\n",
            "99\n",
            "98\n",
            "97\n",
            "96\n",
            "95\n",
            "94\n",
            "93\n",
            "92\n",
            "91\n",
            "90\n",
            "89\n",
            "88\n",
            "87\n",
            "86\n",
            "85\n",
            "84\n",
            "83\n",
            "82\n",
            "81\n",
            "80\n",
            "79\n",
            "78\n",
            "77\n",
            "76\n",
            "75\n",
            "74\n",
            "73\n",
            "72\n",
            "71\n",
            "70\n",
            "69\n",
            "68\n",
            "67\n",
            "66\n",
            "65\n",
            "64\n",
            "63\n",
            "62\n",
            "61\n",
            "60\n",
            "59\n",
            "58\n",
            "57\n",
            "56\n",
            "55\n",
            "54\n",
            "53\n",
            "52\n",
            "51\n",
            "50\n",
            "49\n",
            "48\n",
            "47\n",
            "46\n",
            "45\n",
            "44\n",
            "43\n",
            "42\n",
            "41\n",
            "40\n",
            "39\n",
            "38\n",
            "37\n",
            "36\n",
            "35\n",
            "34\n",
            "33\n",
            "32\n",
            "31\n",
            "30\n",
            "29\n",
            "28\n",
            "27\n",
            "26\n",
            "25\n",
            "24\n",
            "23\n",
            "22\n",
            "21\n",
            "20\n",
            "19\n",
            "18\n",
            "17\n",
            "16\n",
            "15\n",
            "14\n",
            "13\n",
            "12\n",
            "11\n",
            "10\n",
            "9\n",
            "8\n",
            "7\n",
            "6\n",
            "5\n",
            "4\n",
            "3\n",
            "2\n",
            "1\n"
          ]
        }
      ]
    },
    {
      "cell_type": "code",
      "source": [
        "#Print the multiplication table of the number n\n",
        "#n=3\n",
        "\n",
        "i=1\n",
        "while i <= 10:\n",
        "  print(3*i)\n",
        "  i += 1\n"
      ],
      "metadata": {
        "colab": {
          "base_uri": "https://localhost:8080/"
        },
        "id": "WxVCJJvl-XUp",
        "outputId": "b662c900-ef15-49ab-f7eb-0ea533f91f39"
      },
      "execution_count": null,
      "outputs": [
        {
          "output_type": "stream",
          "name": "stdout",
          "text": [
            "3\n",
            "6\n",
            "9\n",
            "12\n",
            "15\n",
            "18\n",
            "21\n",
            "24\n",
            "27\n",
            "30\n"
          ]
        }
      ]
    },
    {
      "cell_type": "code",
      "source": [
        "i=1\n",
        "while i <= 5:\n",
        "  print(10*i)\n",
        "  i+=1"
      ],
      "metadata": {
        "colab": {
          "base_uri": "https://localhost:8080/"
        },
        "id": "evlTeaR1_fK5",
        "outputId": "746307cc-a775-426b-ee12-eae278e69aa9"
      },
      "execution_count": null,
      "outputs": [
        {
          "output_type": "stream",
          "name": "stdout",
          "text": [
            "10\n",
            "20\n",
            "30\n",
            "40\n",
            "50\n"
          ]
        }
      ]
    },
    {
      "cell_type": "code",
      "source": [
        "n = int(input(\"Enter number: \"))\n",
        "i = 1\n",
        "while i <= 10:\n",
        "  print(n*i)\n",
        "  i += 1"
      ],
      "metadata": {
        "colab": {
          "base_uri": "https://localhost:8080/"
        },
        "id": "CP2N5asy_2JC",
        "outputId": "3e5bcb29-29d7-4acc-e0c0-0767cbbc91c0"
      },
      "execution_count": null,
      "outputs": [
        {
          "output_type": "stream",
          "name": "stdout",
          "text": [
            "Enter number: 5\n",
            "5\n",
            "10\n",
            "15\n",
            "20\n",
            "25\n",
            "30\n",
            "35\n",
            "40\n",
            "45\n",
            "50\n"
          ]
        }
      ]
    },
    {
      "cell_type": "code",
      "source": [
        "# Print the element of the following list using a loop:\n",
        "# [1,4,9,16,25,36,49,64,81,100]\n",
        "\n",
        "nums =  [1,4,9,16,25,36,49,64,81,100]\n",
        "idx = 0\n",
        "while idx < len(nums):\n",
        "  print(nums[idx])\n",
        "  idx += 1\n"
      ],
      "metadata": {
        "colab": {
          "base_uri": "https://localhost:8080/"
        },
        "id": "85eIuog9Abpj",
        "outputId": "ec026ef3-325c-4b28-b2ce-2742bbd3897f"
      },
      "execution_count": null,
      "outputs": [
        {
          "output_type": "stream",
          "name": "stdout",
          "text": [
            "1\n",
            "4\n",
            "9\n",
            "16\n",
            "25\n",
            "36\n",
            "49\n",
            "64\n",
            "81\n",
            "100\n"
          ]
        }
      ]
    },
    {
      "cell_type": "code",
      "source": [
        "  heroes = [\"ironman\", \"thor\", \"superman\", \"batman\"]\n",
        "\n",
        "#traverse\n",
        "\n",
        "  i=0\n",
        "  while i < len(heroes):\n",
        "    print(heroes[i])\n",
        "    i+=1"
      ],
      "metadata": {
        "colab": {
          "base_uri": "https://localhost:8080/"
        },
        "id": "beEbiMN8A7Re",
        "outputId": "24ed045c-e800-4390-975b-4b48994d4ac0"
      },
      "execution_count": null,
      "outputs": [
        {
          "output_type": "stream",
          "name": "stdout",
          "text": [
            "ironman\n",
            "thor\n",
            "superman\n",
            "batman\n"
          ]
        }
      ]
    },
    {
      "cell_type": "code",
      "source": [
        "\n",
        "\n",
        "nums = (1,4,9,16,25,36,49,64,81,100)\n",
        "\n",
        "x=36\n",
        "i=0\n",
        "while i < len(nums):\n",
        "  if(nums[i] == x):\n",
        "    print(\"Found\")\n",
        "    i+=1"
      ],
      "metadata": {
        "id": "evfubJQcGt2K"
      },
      "execution_count": null,
      "outputs": []
    },
    {
      "cell_type": "code",
      "source": [
        "i=1\n",
        "while i<=10:\n",
        "  print(i)\n",
        "  if (i==3):\n",
        "    break\n",
        "  i += 1\n",
        "\n",
        "print(\"end of the loop\")"
      ],
      "metadata": {
        "id": "4kRWnoT6HAGv"
      },
      "execution_count": null,
      "outputs": []
    },
    {
      "cell_type": "code",
      "source": [
        "# Search for a number x in this tuple using loop.\n",
        "# (1,4,9,16,25,36,49,64,81,100)\n",
        "\n",
        "nums = (1,4,9,16,25,36,49,64,81,100)\n",
        "\n",
        "x=36\n",
        "i=0\n",
        "while i < len(nums):\n",
        "  if(nums[i] == x):\n",
        "    print(\"Found\")\n",
        "    break\n",
        "  else:\n",
        "    print(\"Finding..\")\n",
        "  i += 1\n",
        "print(\"End of loop\")"
      ],
      "metadata": {
        "id": "uHWdEFboILRs"
      },
      "execution_count": null,
      "outputs": []
    },
    {
      "cell_type": "code",
      "source": [
        "i = 0\n",
        "while i <= 5:\n",
        "  print(i)\n",
        "  if (i==3):\n",
        "    i += 1\n",
        "    continue   #skip\n",
        "  i+= 1"
      ],
      "metadata": {
        "id": "hqTQRDe4KmSF"
      },
      "execution_count": null,
      "outputs": []
    },
    {
      "cell_type": "code",
      "source": [
        "i=1\n",
        "while i <= 10:\n",
        "  if(i%2 ==0):\n",
        "    i += 1\n",
        "    continue\n",
        "  print(i)\n",
        "  i += 1"
      ],
      "metadata": {
        "id": "IJvZt3PYLle3"
      },
      "execution_count": null,
      "outputs": []
    },
    {
      "cell_type": "code",
      "source": [
        "i=1\n",
        "while i<=10:\n",
        "  if(i%2!=0):\n",
        "    i += 1\n",
        "    contine\n",
        "    print(i)\n",
        "    i += 1\n"
      ],
      "metadata": {
        "id": "zHcuRfqiL5iW"
      },
      "execution_count": null,
      "outputs": []
    },
    {
      "cell_type": "code",
      "source": [
        "count = 1\n",
        "while count <= 5:\n",
        "    print(\"Count:\", count)\n",
        "    count += 1"
      ],
      "metadata": {
        "id": "XjGhh_59jBxA",
        "colab": {
          "base_uri": "https://localhost:8080/"
        },
        "outputId": "6060f8a1-bb1d-4640-acfd-c12c7eee23c8"
      },
      "execution_count": 1,
      "outputs": [
        {
          "output_type": "stream",
          "name": "stdout",
          "text": [
            "Count: 1\n",
            "Count: 2\n",
            "Count: 3\n",
            "Count: 4\n",
            "Count: 5\n"
          ]
        }
      ]
    },
    {
      "cell_type": "code",
      "source": [],
      "metadata": {
        "id": "Pu-ixH3KEvmF"
      },
      "execution_count": null,
      "outputs": []
    },
    {
      "cell_type": "markdown",
      "source": [
        "# For Loop"
      ],
      "metadata": {
        "id": "maodIW3vZ1ZX"
      }
    },
    {
      "cell_type": "code",
      "source": [
        "nums = [1,2,3,4,5]\n",
        "for val in nums:\n",
        "  print(val)"
      ],
      "metadata": {
        "colab": {
          "base_uri": "https://localhost:8080/"
        },
        "id": "qmLsnX_QVltg",
        "outputId": "5192cfbd-9e37-4172-e61d-c706a3ef4955"
      },
      "execution_count": 7,
      "outputs": [
        {
          "output_type": "stream",
          "name": "stdout",
          "text": [
            "1\n",
            "2\n",
            "3\n",
            "4\n",
            "5\n"
          ]
        }
      ]
    },
    {
      "cell_type": "code",
      "source": [
        "veg = [\"potato\", \"brinjal\", \"ladyfinger\", \"cucumber\"]\n",
        "for val in veg:\n",
        "  print(val)"
      ],
      "metadata": {
        "colab": {
          "base_uri": "https://localhost:8080/"
        },
        "id": "r8sZWFnQaCK0",
        "outputId": "baa91fac-b898-4088-cec1-a966d77e81d7"
      },
      "execution_count": 8,
      "outputs": [
        {
          "output_type": "stream",
          "name": "stdout",
          "text": [
            "potato\n",
            "brinjal\n",
            "ladyfinger\n",
            "cucumber\n"
          ]
        }
      ]
    },
    {
      "cell_type": "code",
      "source": [
        "tup = (1,2,3,4,5)\n",
        "for num in tup:\n",
        "  print(num)"
      ],
      "metadata": {
        "colab": {
          "base_uri": "https://localhost:8080/"
        },
        "id": "0yZteeIIaPHZ",
        "outputId": "5956d26f-ad98-4839-e16f-a99ae65d8e6b"
      },
      "execution_count": 9,
      "outputs": [
        {
          "output_type": "stream",
          "name": "stdout",
          "text": [
            "1\n",
            "2\n",
            "3\n",
            "4\n",
            "5\n"
          ]
        }
      ]
    },
    {
      "cell_type": "code",
      "source": [
        "str = \"apnacollege\"\n",
        "\n",
        "for char in str:\n",
        "  print(char)\n",
        "else:\n",
        "  print(\"END\")\n"
      ],
      "metadata": {
        "colab": {
          "base_uri": "https://localhost:8080/"
        },
        "id": "aGjHaeGcaWjj",
        "outputId": "c72aad41-fec3-4620-e1fc-3d623d0ec284"
      },
      "execution_count": 11,
      "outputs": [
        {
          "output_type": "stream",
          "name": "stdout",
          "text": [
            "a\n",
            "p\n",
            "n\n",
            "a\n",
            "c\n",
            "o\n",
            "l\n",
            "l\n",
            "e\n",
            "g\n",
            "e\n",
            "END\n"
          ]
        }
      ]
    },
    {
      "cell_type": "code",
      "source": [
        "str = \"SompaBhui\"\n",
        "\n",
        "for char in str:\n",
        "  if(char == 'B'):\n",
        "    print(\"B found\")\n",
        "    break\n",
        "  print(char)\n",
        "else:\n",
        "  print(\"END\")"
      ],
      "metadata": {
        "colab": {
          "base_uri": "https://localhost:8080/"
        },
        "id": "-2Vt8DptaePA",
        "outputId": "2ba33cbb-be22-4819-9d00-cebe543e5360"
      },
      "execution_count": 12,
      "outputs": [
        {
          "output_type": "stream",
          "name": "stdout",
          "text": [
            "S\n",
            "o\n",
            "m\n",
            "p\n",
            "a\n",
            "B found\n"
          ]
        }
      ]
    },
    {
      "cell_type": "code",
      "source": [
        "# Print the element of the following list using a loop:\n",
        "# [1,4,9,16,25,36,49,64,81,100]\n",
        "\n",
        "nums = [1,4,9,16,25,36,49,64,81,100]\n",
        "\n",
        "for el in nums:\n",
        "  print(el)"
      ],
      "metadata": {
        "colab": {
          "base_uri": "https://localhost:8080/"
        },
        "id": "iKXkDJmkbmTS",
        "outputId": "599dce6c-3b13-4d95-dfe6-0b338cc11487"
      },
      "execution_count": 13,
      "outputs": [
        {
          "output_type": "stream",
          "name": "stdout",
          "text": [
            "1\n",
            "4\n",
            "9\n",
            "16\n",
            "25\n",
            "36\n",
            "49\n",
            "64\n",
            "81\n",
            "100\n"
          ]
        }
      ]
    },
    {
      "cell_type": "code",
      "source": [
        "# Search for a number x in this tuple using loop.\n",
        "# (1,4,9,16,25,36,49,64,81,100)\n",
        "\n",
        "#Linear Search\n",
        "\n",
        "nums = (1,4,9,16,25,36,49,64,81,100,49)\n",
        "x=49\n",
        "idx=0\n",
        "for el in nums:\n",
        "  if(el == x):\n",
        "    print(\"num found at idx\", idx)\n",
        "    # break\n",
        "  idx += 1\n",
        "\n"
      ],
      "metadata": {
        "colab": {
          "base_uri": "https://localhost:8080/"
        },
        "id": "AspNu525cDx4",
        "outputId": "2bfa2571-4eb7-4aa5-f1ef-cbcaa81efd56"
      },
      "execution_count": 15,
      "outputs": [
        {
          "output_type": "stream",
          "name": "stdout",
          "text": [
            "num found at idx 6\n",
            "num found at idx 10\n"
          ]
        }
      ]
    },
    {
      "cell_type": "code",
      "source": [
        "seq = range(5)\n",
        "print(seq[0])\n",
        "print(seq[1])\n",
        "print(seq[2])\n",
        "print(seq[3])\n",
        "print(seq[4])"
      ],
      "metadata": {
        "colab": {
          "base_uri": "https://localhost:8080/"
        },
        "id": "vSfQcBfqcq_V",
        "outputId": "25276624-10f3-474f-8e46-5f35a671bf6c"
      },
      "execution_count": 18,
      "outputs": [
        {
          "output_type": "stream",
          "name": "stdout",
          "text": [
            "0\n",
            "1\n",
            "2\n",
            "3\n",
            "4\n"
          ]
        }
      ]
    },
    {
      "cell_type": "code",
      "source": [
        "seq = range(5)\n",
        "for el in seq:\n",
        "  print(el)"
      ],
      "metadata": {
        "colab": {
          "base_uri": "https://localhost:8080/"
        },
        "id": "xcPRN1dMjSu_",
        "outputId": "53a56496-71ec-4f56-ae07-feeb32f77bd2"
      },
      "execution_count": 19,
      "outputs": [
        {
          "output_type": "stream",
          "name": "stdout",
          "text": [
            "0\n",
            "1\n",
            "2\n",
            "3\n",
            "4\n"
          ]
        }
      ]
    },
    {
      "cell_type": "code",
      "source": [
        "for i in range(10):\n",
        "  print(i)"
      ],
      "metadata": {
        "colab": {
          "base_uri": "https://localhost:8080/"
        },
        "id": "B3vfiU3pjujD",
        "outputId": "f6872070-7504-4a63-dc59-cd299938211d"
      },
      "execution_count": 20,
      "outputs": [
        {
          "output_type": "stream",
          "name": "stdout",
          "text": [
            "0\n",
            "1\n",
            "2\n",
            "3\n",
            "4\n",
            "5\n",
            "6\n",
            "7\n",
            "8\n",
            "9\n"
          ]
        }
      ]
    },
    {
      "cell_type": "code",
      "source": [
        "for i in range(10):    #range(stop)\n",
        "  print(i)\n",
        "\n",
        "for i in range(2, 10):    #range(start, stop)\n",
        "  print(i)"
      ],
      "metadata": {
        "colab": {
          "base_uri": "https://localhost:8080/"
        },
        "id": "6ccyIz8QkH5n",
        "outputId": "393e8f37-c2ef-4637-c8bb-82d3dffd1ae2"
      },
      "execution_count": 22,
      "outputs": [
        {
          "output_type": "stream",
          "name": "stdout",
          "text": [
            "0\n",
            "1\n",
            "2\n",
            "3\n",
            "4\n",
            "5\n",
            "6\n",
            "7\n",
            "8\n",
            "9\n",
            "2\n",
            "3\n",
            "4\n",
            "5\n",
            "6\n",
            "7\n",
            "8\n",
            "9\n"
          ]
        }
      ]
    },
    {
      "cell_type": "code",
      "source": [
        "for i in range(2, 10, 2):       #(start, stop, step)\n",
        "  print(i)"
      ],
      "metadata": {
        "colab": {
          "base_uri": "https://localhost:8080/"
        },
        "id": "_k8U7kb24FHO",
        "outputId": "e921fadb-46c5-42ac-bb67-46888b97f613"
      },
      "execution_count": 24,
      "outputs": [
        {
          "output_type": "stream",
          "name": "stdout",
          "text": [
            "2\n",
            "4\n",
            "6\n",
            "8\n"
          ]
        }
      ]
    },
    {
      "cell_type": "code",
      "source": [
        "for i in range(2, 100,10):\n",
        "  print(i)"
      ],
      "metadata": {
        "colab": {
          "base_uri": "https://localhost:8080/"
        },
        "id": "YXo4kEF44Rxw",
        "outputId": "9aab397e-2d03-43cd-f487-29ab06af033f"
      },
      "execution_count": 26,
      "outputs": [
        {
          "output_type": "stream",
          "name": "stdout",
          "text": [
            "2\n",
            "12\n",
            "22\n",
            "32\n",
            "42\n",
            "52\n",
            "62\n",
            "72\n",
            "82\n",
            "92\n"
          ]
        }
      ]
    },
    {
      "cell_type": "code",
      "source": [
        "for i in range(1, 101):\n",
        "  print(i)"
      ],
      "metadata": {
        "colab": {
          "base_uri": "https://localhost:8080/"
        },
        "id": "TcbKuyox46LJ",
        "outputId": "28e99541-6bc2-4ff2-9a86-20d8a9e83563"
      },
      "execution_count": 28,
      "outputs": [
        {
          "output_type": "stream",
          "name": "stdout",
          "text": [
            "1\n",
            "2\n",
            "3\n",
            "4\n",
            "5\n",
            "6\n",
            "7\n",
            "8\n",
            "9\n",
            "10\n",
            "11\n",
            "12\n",
            "13\n",
            "14\n",
            "15\n",
            "16\n",
            "17\n",
            "18\n",
            "19\n",
            "20\n",
            "21\n",
            "22\n",
            "23\n",
            "24\n",
            "25\n",
            "26\n",
            "27\n",
            "28\n",
            "29\n",
            "30\n",
            "31\n",
            "32\n",
            "33\n",
            "34\n",
            "35\n",
            "36\n",
            "37\n",
            "38\n",
            "39\n",
            "40\n",
            "41\n",
            "42\n",
            "43\n",
            "44\n",
            "45\n",
            "46\n",
            "47\n",
            "48\n",
            "49\n",
            "50\n",
            "51\n",
            "52\n",
            "53\n",
            "54\n",
            "55\n",
            "56\n",
            "57\n",
            "58\n",
            "59\n",
            "60\n",
            "61\n",
            "62\n",
            "63\n",
            "64\n",
            "65\n",
            "66\n",
            "67\n",
            "68\n",
            "69\n",
            "70\n",
            "71\n",
            "72\n",
            "73\n",
            "74\n",
            "75\n",
            "76\n",
            "77\n",
            "78\n",
            "79\n",
            "80\n",
            "81\n",
            "82\n",
            "83\n",
            "84\n",
            "85\n",
            "86\n",
            "87\n",
            "88\n",
            "89\n",
            "90\n",
            "91\n",
            "92\n",
            "93\n",
            "94\n",
            "95\n",
            "96\n",
            "97\n",
            "98\n",
            "99\n",
            "100\n"
          ]
        }
      ]
    },
    {
      "cell_type": "code",
      "source": [
        "for i in range(100, 0, -1):\n",
        "  print(i)"
      ],
      "metadata": {
        "colab": {
          "base_uri": "https://localhost:8080/"
        },
        "id": "hE1-BsQ05ZW5",
        "outputId": "7c1aee87-56fa-49c3-de4f-e9e5dcfa48e3"
      },
      "execution_count": 30,
      "outputs": [
        {
          "output_type": "stream",
          "name": "stdout",
          "text": [
            "100\n",
            "99\n",
            "98\n",
            "97\n",
            "96\n",
            "95\n",
            "94\n",
            "93\n",
            "92\n",
            "91\n",
            "90\n",
            "89\n",
            "88\n",
            "87\n",
            "86\n",
            "85\n",
            "84\n",
            "83\n",
            "82\n",
            "81\n",
            "80\n",
            "79\n",
            "78\n",
            "77\n",
            "76\n",
            "75\n",
            "74\n",
            "73\n",
            "72\n",
            "71\n",
            "70\n",
            "69\n",
            "68\n",
            "67\n",
            "66\n",
            "65\n",
            "64\n",
            "63\n",
            "62\n",
            "61\n",
            "60\n",
            "59\n",
            "58\n",
            "57\n",
            "56\n",
            "55\n",
            "54\n",
            "53\n",
            "52\n",
            "51\n",
            "50\n",
            "49\n",
            "48\n",
            "47\n",
            "46\n",
            "45\n",
            "44\n",
            "43\n",
            "42\n",
            "41\n",
            "40\n",
            "39\n",
            "38\n",
            "37\n",
            "36\n",
            "35\n",
            "34\n",
            "33\n",
            "32\n",
            "31\n",
            "30\n",
            "29\n",
            "28\n",
            "27\n",
            "26\n",
            "25\n",
            "24\n",
            "23\n",
            "22\n",
            "21\n",
            "20\n",
            "19\n",
            "18\n",
            "17\n",
            "16\n",
            "15\n",
            "14\n",
            "13\n",
            "12\n",
            "11\n",
            "10\n",
            "9\n",
            "8\n",
            "7\n",
            "6\n",
            "5\n",
            "4\n",
            "3\n",
            "2\n",
            "1\n"
          ]
        }
      ]
    },
    {
      "cell_type": "code",
      "source": [
        "n = int(input(\"Enter Number: \"))\n",
        "\n",
        "for i in range(1, 11):\n",
        "  print(n*i)"
      ],
      "metadata": {
        "colab": {
          "base_uri": "https://localhost:8080/"
        },
        "id": "ojdQcgEH5iDb",
        "outputId": "78356498-62b7-44e0-b6b9-1d736aa3c264"
      },
      "execution_count": 31,
      "outputs": [
        {
          "output_type": "stream",
          "name": "stdout",
          "text": [
            "Enter Number: 3\n",
            "3\n",
            "6\n",
            "9\n",
            "12\n",
            "15\n",
            "18\n",
            "21\n",
            "24\n",
            "27\n",
            "30\n"
          ]
        }
      ]
    },
    {
      "cell_type": "code",
      "source": [
        "for i in range(5):\n",
        "  pass\n",
        "\n",
        "print(\"Some useful work\")"
      ],
      "metadata": {
        "colab": {
          "base_uri": "https://localhost:8080/"
        },
        "id": "VSPLqI6f51Bl",
        "outputId": "04477211-69e2-4227-c923-6c84838a9e11"
      },
      "execution_count": 33,
      "outputs": [
        {
          "output_type": "stream",
          "name": "stdout",
          "text": [
            "Some useful work\n"
          ]
        }
      ]
    },
    {
      "cell_type": "code",
      "source": [
        "if i>5:\n",
        "  pass"
      ],
      "metadata": {
        "id": "E8yOTdor6MoM"
      },
      "execution_count": 34,
      "outputs": []
    },
    {
      "cell_type": "code",
      "source": [
        "#WAP to find the sum of first n natural numbers.(using while)\n",
        "\n",
        "# n = 5\n",
        "\n",
        "# sum=0\n",
        "# for i in range(n+1):\n",
        "#   sum += i\n",
        "\n",
        "# print(\"total sum\", sum)\n",
        "\n",
        "\n",
        "n=7\n",
        "sum=0\n",
        "i=1\n",
        "while i<=n:\n",
        "  sum += i\n",
        "  i += 1\n",
        "\n",
        "print(\"total sum\", sum)"
      ],
      "metadata": {
        "colab": {
          "base_uri": "https://localhost:8080/"
        },
        "id": "yOMcbmPl6bGP",
        "outputId": "6ecab36e-bb1f-424e-8475-4d9b8649cd22"
      },
      "execution_count": 39,
      "outputs": [
        {
          "output_type": "stream",
          "name": "stdout",
          "text": [
            "total sum 28\n"
          ]
        }
      ]
    },
    {
      "cell_type": "code",
      "source": [
        "#WAP to find the factorial of first n numbers\n",
        "\n",
        "# n=5\n",
        "# fact=1\n",
        "# i=1\n",
        "# while i<=n:\n",
        "#   fact *= i\n",
        "#   i += 1\n",
        "\n",
        "# print(\"factorial=\", fact)\n",
        "\n",
        "\n",
        "n=5\n",
        "fact = 1\n",
        "\n",
        "for i in range(1, n+1):\n",
        "  fact *= i\n",
        "\n",
        "print(\"factorial\", fact)\n"
      ],
      "metadata": {
        "colab": {
          "base_uri": "https://localhost:8080/"
        },
        "id": "uccbFHjJ6ycb",
        "outputId": "07e91c65-29b9-4ef9-ceae-881639de090f"
      },
      "execution_count": 43,
      "outputs": [
        {
          "output_type": "stream",
          "name": "stdout",
          "text": [
            "factorial 120\n"
          ]
        }
      ]
    },
    {
      "cell_type": "code",
      "source": [],
      "metadata": {
        "id": "BcdjAzdB79U6"
      },
      "execution_count": null,
      "outputs": []
    }
  ]
}