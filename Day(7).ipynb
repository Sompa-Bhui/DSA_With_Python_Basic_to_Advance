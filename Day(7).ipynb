{
  "nbformat": 4,
  "nbformat_minor": 0,
  "metadata": {
    "colab": {
      "provenance": [],
      "authorship_tag": "ABX9TyPSJQ9gnacZ2GkHXmOUn0ii",
      "include_colab_link": true
    },
    "kernelspec": {
      "name": "python3",
      "display_name": "Python 3"
    },
    "language_info": {
      "name": "python"
    }
  },
  "cells": [
    {
      "cell_type": "markdown",
      "metadata": {
        "id": "view-in-github",
        "colab_type": "text"
      },
      "source": [
        "<a href=\"https://colab.research.google.com/github/Sompa-Bhui/DSA_With_Python_Basic_to_Advance/blob/main/Day(7).ipynb\" target=\"_parent\"><img src=\"https://colab.research.google.com/assets/colab-badge.svg\" alt=\"Open In Colab\"/></a>"
      ]
    },
    {
      "cell_type": "code",
      "execution_count": null,
      "metadata": {
        "colab": {
          "base_uri": "https://localhost:8080/"
        },
        "id": "a4P2iE5YpM2g",
        "outputId": "d53493ef-222e-4830-9e49-518ac842bef7"
      },
      "outputs": [
        {
          "output_type": "stream",
          "name": "stdout",
          "text": [
            "15\n",
            "12\n",
            "29\n"
          ]
        }
      ],
      "source": [
        "# Redundant code (Repeat) // not good code\n",
        "#To remove redundanty code we use function\n",
        "a=5\n",
        "b=10\n",
        "\n",
        "sum = a+b\n",
        "print(sum)\n",
        "\n",
        "#more lines of code\n",
        "\n",
        "a=2\n",
        "b=10\n",
        "sum=a+b\n",
        "print(sum)\n",
        "\n",
        "a=12\n",
        "b=17\n",
        "sum=a+b\n",
        "print(sum)"
      ]
    },
    {
      "cell_type": "code",
      "source": [
        "def calc_sum(a, b):\n",
        "    sum = a + b\n",
        "    print(sum)\n",
        "    return sum\n",
        "\n",
        "# print(calc_sum(2, 3))\n",
        "# print(calc_sum(5, 10))\n",
        "# print(calc_sum(12, 17))\n",
        "\n",
        "calc_sum(2, 3)\n",
        "calc_sum(5,10)\n",
        "calc_sum(12,17)"
      ],
      "metadata": {
        "colab": {
          "base_uri": "https://localhost:8080/"
        },
        "id": "RBV9JbMzpqKg",
        "outputId": "9b66e0e2-d143-438b-c785-9cc93a0ed0bf"
      },
      "execution_count": 4,
      "outputs": [
        {
          "output_type": "stream",
          "name": "stdout",
          "text": [
            "5\n",
            "15\n",
            "29\n"
          ]
        },
        {
          "output_type": "execute_result",
          "data": {
            "text/plain": [
              "29"
            ]
          },
          "metadata": {},
          "execution_count": 4
        }
      ]
    },
    {
      "cell_type": "code",
      "source": [
        " def calc_sum(x,y):\n",
        "  sum=x+y\n",
        "  print(sum)\n",
        "  return sum\n",
        "\n",
        "calc_sum\n",
        "calc_sum(5,10)\n",
        "calc_sum(12,17)"
      ],
      "metadata": {
        "colab": {
          "base_uri": "https://localhost:8080/"
        },
        "id": "1ypfw5-WqflH",
        "outputId": "03940d9d-9781-44a4-bba3-559ec1c02623"
      },
      "execution_count": null,
      "outputs": [
        {
          "output_type": "stream",
          "name": "stdout",
          "text": [
            "12\n",
            "15\n",
            "29\n"
          ]
        },
        {
          "output_type": "execute_result",
          "data": {
            "text/plain": [
              "29"
            ]
          },
          "metadata": {},
          "execution_count": 13
        }
      ]
    },
    {
      "cell_type": "code",
      "source": [
        "#function defination\n",
        "def calc_sum(a,b): #parameters\n",
        "  return a+b\n",
        "\n",
        "sum = calc_sum(1,2)  #function call; 1&2function srguments\n",
        "print(sum)\n",
        "\n"
      ],
      "metadata": {
        "colab": {
          "base_uri": "https://localhost:8080/"
        },
        "id": "S_neLwX9uw9F",
        "outputId": "b0cb8693-9dfd-463b-8ea1-b7ad46c6ae87"
      },
      "execution_count": null,
      "outputs": [
        {
          "output_type": "stream",
          "name": "stdout",
          "text": [
            "3\n"
          ]
        }
      ]
    },
    {
      "cell_type": "code",
      "source": [
        "def print_hello():\n",
        "  print(\"hello\")\n",
        "\n",
        "print_hello()\n",
        "print_hello()\n",
        "print_hello()\n",
        "print_hello()\n",
        "print_hello()\n",
        "\n"
      ],
      "metadata": {
        "colab": {
          "base_uri": "https://localhost:8080/"
        },
        "id": "iZSUuh0pvIAy",
        "outputId": "9731d221-71d9-4a04-ff96-b03e9ca4f3b3"
      },
      "execution_count": 11,
      "outputs": [
        {
          "output_type": "stream",
          "name": "stdout",
          "text": [
            "hello\n",
            "hello\n",
            "hello\n",
            "hello\n",
            "hello\n"
          ]
        }
      ]
    },
    {
      "cell_type": "code",
      "source": [
        "def print_hello():\n",
        "  print(\"hello\")\n",
        "\n",
        "print(print_hello())"
      ],
      "metadata": {
        "colab": {
          "base_uri": "https://localhost:8080/"
        },
        "id": "Ibx-xOAAvnhM",
        "outputId": "8b3b3a52-c1c7-4e3c-9b65-4620e126bc53"
      },
      "execution_count": null,
      "outputs": [
        {
          "output_type": "stream",
          "name": "stdout",
          "text": [
            "hello\n",
            "None\n"
          ]
        }
      ]
    },
    {
      "cell_type": "code",
      "source": [
        "def print_hello():\n",
        "  print(\"hello\")\n",
        "\n",
        "output = print_hello()\n",
        "print(output)"
      ],
      "metadata": {
        "colab": {
          "base_uri": "https://localhost:8080/"
        },
        "id": "7SiOaZXL_7YY",
        "outputId": "02f3d256-2f77-4e68-8195-86906de1ef40"
      },
      "execution_count": null,
      "outputs": [
        {
          "output_type": "stream",
          "name": "stdout",
          "text": [
            "hello\n",
            "None\n"
          ]
        }
      ]
    },
    {
      "cell_type": "code",
      "source": [
        "#Avg of three numbers\n",
        "\n",
        "def avg(a,b,c):\n",
        "  return (a+b+c)/3\n"
      ],
      "metadata": {
        "id": "XnVnjO75AI_-"
      },
      "execution_count": 1,
      "outputs": []
    },
    {
      "cell_type": "code",
      "source": [
        "#function defination\n",
        "def calc_sum(a,b):   # a & b parameters\n",
        "  return a+b\n",
        "\n",
        "#Function call\n",
        "sum = calc_sum(1,2)  # 1 & 2 arguments\n",
        "print(sum)"
      ],
      "metadata": {
        "colab": {
          "base_uri": "https://localhost:8080/"
        },
        "id": "J0UJMquvyj5Z",
        "outputId": "37604f00-dd7a-4722-dd7b-33bb7ded38e3"
      },
      "execution_count": 6,
      "outputs": [
        {
          "output_type": "stream",
          "name": "stdout",
          "text": [
            "3\n"
          ]
        }
      ]
    },
    {
      "cell_type": "code",
      "source": [
        "\n",
        "  def print_hello():\n",
        "    print(\"OKKK\")\n",
        "\n",
        "\n",
        "print_hello()\n",
        "print_hello()\n",
        "print_hello()\n",
        "print_hello()\n",
        "print_hello()"
      ],
      "metadata": {
        "colab": {
          "base_uri": "https://localhost:8080/"
        },
        "id": "b1HQBl0w06Fz",
        "outputId": "de98fbb9-2c55-4dea-fb60-806b89d8092c"
      },
      "execution_count": 13,
      "outputs": [
        {
          "output_type": "stream",
          "name": "stdout",
          "text": [
            "OKKK\n",
            "OKKK\n",
            "OKKK\n",
            "OKKK\n",
            "OKKK\n"
          ]
        }
      ]
    },
    {
      "cell_type": "code",
      "source": [
        "def print_hello():\n",
        "  print(\"hello\")\n",
        "\n",
        "output = print_hello()\n",
        "print(output)"
      ],
      "metadata": {
        "colab": {
          "base_uri": "https://localhost:8080/"
        },
        "id": "GSUQUVDZ1X_T",
        "outputId": "913c7b0d-5b40-4bce-de91-cc9ce1f5b172"
      },
      "execution_count": 14,
      "outputs": [
        {
          "output_type": "stream",
          "name": "stdout",
          "text": [
            "hello\n",
            "None\n"
          ]
        }
      ]
    },
    {
      "cell_type": "code",
      "source": [
        "#AVG of three numbers\n",
        "\n",
        "def calc_avg(a,b,c):\n",
        "  sum = a+b+c\n",
        "  avg = sum/3\n",
        "  print(avg)\n",
        "  return avg\n",
        "\n",
        "calc_avg(4,5,6)"
      ],
      "metadata": {
        "colab": {
          "base_uri": "https://localhost:8080/"
        },
        "id": "06Y94wNr30BH",
        "outputId": "cd8efd8b-1801-4e53-8675-0bd19e4032c3"
      },
      "execution_count": 15,
      "outputs": [
        {
          "output_type": "stream",
          "name": "stdout",
          "text": [
            "5.0\n"
          ]
        },
        {
          "output_type": "execute_result",
          "data": {
            "text/plain": [
              "5.0"
            ]
          },
          "metadata": {},
          "execution_count": 15
        }
      ]
    },
    {
      "cell_type": "code",
      "source": [
        "print(\"sompa\",\"bhui\")    #,sep = \" \""
      ],
      "metadata": {
        "colab": {
          "base_uri": "https://localhost:8080/"
        },
        "id": "Su8CQpD04CMu",
        "outputId": "541ef3c7-4b5d-47ed-9753-32e28253eb34"
      },
      "execution_count": 17,
      "outputs": [
        {
          "output_type": "stream",
          "name": "stdout",
          "text": [
            "sompa bhui\n"
          ]
        }
      ]
    },
    {
      "cell_type": "code",
      "source": [
        "print(\"sompa\")\n",
        "print(\"bhui\")   #end = \"\\n\""
      ],
      "metadata": {
        "colab": {
          "base_uri": "https://localhost:8080/"
        },
        "id": "qR-KA_pM5fNw",
        "outputId": "03aab1ed-1903-4fa5-9b3d-3b19716796f2"
      },
      "execution_count": 18,
      "outputs": [
        {
          "output_type": "stream",
          "name": "stdout",
          "text": [
            "sompa\n",
            "bhui\n"
          ]
        }
      ]
    },
    {
      "cell_type": "code",
      "source": [
        "print(\"sompa\", end=\" \")\n",
        "print(\"bhui\")"
      ],
      "metadata": {
        "colab": {
          "base_uri": "https://localhost:8080/"
        },
        "id": "_HS5FH2p5wqs",
        "outputId": "22783c6b-21f4-468d-c6a5-86922b4b8206"
      },
      "execution_count": 19,
      "outputs": [
        {
          "output_type": "stream",
          "name": "stdout",
          "text": [
            "sompa bhui\n"
          ]
        }
      ]
    },
    {
      "cell_type": "code",
      "source": [
        "print(\"sompa\", end=\"$\")\n",
        "print(\"bhui\")"
      ],
      "metadata": {
        "colab": {
          "base_uri": "https://localhost:8080/"
        },
        "id": "1YHVG8g85_gj",
        "outputId": "125b00fd-311b-4ef7-a667-e39ed555676e"
      },
      "execution_count": 23,
      "outputs": [
        {
          "output_type": "stream",
          "name": "stdout",
          "text": [
            "sompa$bhui\n"
          ]
        }
      ]
    },
    {
      "cell_type": "code",
      "source": [
        "def cal_prod(a,b):\n",
        "  print(a*b)\n",
        "  return a*b\n",
        "\n",
        "cal_prod"
      ],
      "metadata": {
        "colab": {
          "base_uri": "https://localhost:8080/",
          "height": 103
        },
        "id": "URCtvKWZ6GA6",
        "outputId": "be5e6e47-d0cf-4450-a2c4-bb2647115604"
      },
      "execution_count": 25,
      "outputs": [
        {
          "output_type": "execute_result",
          "data": {
            "text/plain": [
              "<function __main__.cal_prod(a, b)>"
            ],
            "text/html": [
              "<div style=\"max-width:800px; border: 1px solid var(--colab-border-color);\"><style>\n",
              "      pre.function-repr-contents {\n",
              "        overflow-x: auto;\n",
              "        padding: 8px 12px;\n",
              "        max-height: 500px;\n",
              "      }\n",
              "\n",
              "      pre.function-repr-contents.function-repr-contents-collapsed {\n",
              "        cursor: pointer;\n",
              "        max-height: 100px;\n",
              "      }\n",
              "    </style>\n",
              "    <pre style=\"white-space: initial; background:\n",
              "         var(--colab-secondary-surface-color); padding: 8px 12px;\n",
              "         border-bottom: 1px solid var(--colab-border-color);\"><b>cal_prod</b><br/>def cal_prod(a, b)</pre><pre class=\"function-repr-contents function-repr-contents-collapsed\" style=\"\"><a class=\"filepath\" style=\"display:none\" href=\"#\">/tmp/ipython-input-2326698050.py</a>&lt;no docstring&gt;</pre></div>"
            ]
          },
          "metadata": {},
          "execution_count": 25
        }
      ]
    },
    {
      "cell_type": "code",
      "source": [
        "def cal_prod(a=1, b=1):\n",
        "  print(a * b)\n",
        "  return a * b\n",
        "\n",
        "cal_prod()"
      ],
      "metadata": {
        "colab": {
          "base_uri": "https://localhost:8080/"
        },
        "id": "GINr16AJ72Ms",
        "outputId": "c247b74a-975b-4508-d169-9eda42f7e1c6"
      },
      "execution_count": 27,
      "outputs": [
        {
          "output_type": "stream",
          "name": "stdout",
          "text": [
            "1\n"
          ]
        },
        {
          "output_type": "execute_result",
          "data": {
            "text/plain": [
              "1"
            ]
          },
          "metadata": {},
          "execution_count": 27
        }
      ]
    },
    {
      "cell_type": "code",
      "source": [
        "#WAp to print the length of a list \\. (list is the parameter)\n",
        "\n",
        "cities = [\"delhi\", \"gurgaon\", \"noida\", \"mumbai\", \"chennai\"]\n",
        "heroes = [\"thor\", \"ironman\", \"captain america\", \"shaktiman\"]\n",
        "def print_len(list):\n",
        "  print(len(list))\n",
        "\n",
        "print_len(cities)\n",
        "print_len(heroes)"
      ],
      "metadata": {
        "colab": {
          "base_uri": "https://localhost:8080/"
        },
        "id": "qqhErEl78F1g",
        "outputId": "6138e08b-03f1-4a32-ba4d-9b762c6c1607"
      },
      "execution_count": 30,
      "outputs": [
        {
          "output_type": "stream",
          "name": "stdout",
          "text": [
            "5\n",
            "4\n"
          ]
        }
      ]
    },
    {
      "cell_type": "code",
      "source": [
        "#WAP to print the element of a list in a single line. (list is the parameter)\n",
        "\n",
        "cities = [\"delhi\", \"gurgaon\", \"noida\", \"mumbai\", \"chennai\"]\n",
        "heroes = [\"thor\", \"ironman\", \"captain america\", \"shaktiman\"]\n",
        "\n",
        "# Function to print list elements in a single line\n",
        "def print_list(lst):\n",
        "    for i in lst:\n",
        "        print(i, end=\" \")\n",
        "    print()  # for new line\n",
        "\n",
        "# Call the function\n",
        "print_list(cities)\n",
        "print_list(heroes)\n"
      ],
      "metadata": {
        "colab": {
          "base_uri": "https://localhost:8080/"
        },
        "id": "lTedWjU59ETu",
        "outputId": "30a78c3e-d2a9-48bb-b05d-8e7c72080235"
      },
      "execution_count": 36,
      "outputs": [
        {
          "output_type": "stream",
          "name": "stdout",
          "text": [
            "delhi gurgaon noida mumbai chennai \n",
            "thor ironman captain america shaktiman \n"
          ]
        }
      ]
    },
    {
      "cell_type": "code",
      "source": [
        "#WAP to find the factorial of n.(n is the parameter)\n",
        "\n",
        "# n=5\n",
        "# fact = 1\n",
        "# for i in range(1, n+1):\n",
        "#   fact *= i\n",
        "# print(fact)\n",
        "\n",
        "def cal_fact(n):\n",
        "  fact = 1\n",
        "  for i in range(1, n+1):\n",
        "    fact *= i\n",
        "  print(fact)\n",
        "\n",
        "cal_fact(6)"
      ],
      "metadata": {
        "colab": {
          "base_uri": "https://localhost:8080/"
        },
        "id": "6x-anABT9xIT",
        "outputId": "feb90b87-9c0f-461a-d963-5691f4df21af"
      },
      "execution_count": 47,
      "outputs": [
        {
          "output_type": "stream",
          "name": "stdout",
          "text": [
            "720\n"
          ]
        }
      ]
    },
    {
      "cell_type": "code",
      "source": [
        "#WAP to convert USD to INR\n",
        "\n",
        "def converter(usd_val):\n",
        "  inr_val = usd_val * 83\n",
        "  print(usd_val, \"USD =\", inr_val, \"INR\")\n",
        "\n",
        "converter(1)"
      ],
      "metadata": {
        "colab": {
          "base_uri": "https://localhost:8080/"
        },
        "id": "hUVyQUi7AuyE",
        "outputId": "26ca89d7-646c-475f-a364-24beddc6c62d"
      },
      "execution_count": 48,
      "outputs": [
        {
          "output_type": "stream",
          "name": "stdout",
          "text": [
            "1 USD = 83 INR\n"
          ]
        }
      ]
    },
    {
      "cell_type": "code",
      "source": [
        "# Function to check odd or even\n",
        "def check_odd_even(number):\n",
        "    if number % 2 == 0:\n",
        "        return \"even\"\n",
        "    else:\n",
        "        return \"odd\"\n",
        "\n",
        "# Take input from user\n",
        "num = int(input(\"Enter a number: \"))\n",
        "\n",
        "# Call the function and print the result\n",
        "result = check_odd_even(num)\n",
        "print(result)\n"
      ],
      "metadata": {
        "colab": {
          "base_uri": "https://localhost:8080/"
        },
        "id": "1FJTNO08Deoo",
        "outputId": "a0a7b92f-bb3a-4ed8-bb2a-878569bdab96"
      },
      "execution_count": 49,
      "outputs": [
        {
          "output_type": "stream",
          "name": "stdout",
          "text": [
            "Enter a number: 4\n",
            "even\n"
          ]
        }
      ]
    },
    {
      "cell_type": "code",
      "source": [],
      "metadata": {
        "id": "Wq6XaT53Eaiq"
      },
      "execution_count": null,
      "outputs": []
    },
    {
      "cell_type": "markdown",
      "source": [
        "# Recursion"
      ],
      "metadata": {
        "id": "jNEqb4vKKtCi"
      }
    },
    {
      "cell_type": "code",
      "source": [
        "def show(n):\n",
        "  print(n)\n",
        "show(5)\n"
      ],
      "metadata": {
        "colab": {
          "base_uri": "https://localhost:8080/"
        },
        "id": "IaJU1gGBKwSa",
        "outputId": "eb81587a-c095-4bdf-d2e7-d6cfd15bc9da"
      },
      "execution_count": 52,
      "outputs": [
        {
          "output_type": "stream",
          "name": "stdout",
          "text": [
            "5\n"
          ]
        }
      ]
    },
    {
      "cell_type": "code",
      "source": [
        "#Recursive Function\n",
        "\n",
        "def show(n):\n",
        "  if(n == 0):\n",
        "    return\n",
        "  print(n)\n",
        "  show(n-1)\n",
        "\n",
        "show(5)"
      ],
      "metadata": {
        "colab": {
          "base_uri": "https://localhost:8080/"
        },
        "id": "jo4HAIZuK3me",
        "outputId": "97d7712f-5b4c-4b7d-df64-dba75cc715bf"
      },
      "execution_count": 53,
      "outputs": [
        {
          "output_type": "stream",
          "name": "stdout",
          "text": [
            "5\n",
            "4\n",
            "3\n",
            "2\n",
            "1\n"
          ]
        }
      ]
    },
    {
      "cell_type": "code",
      "source": [
        "def fact(n):\n",
        "  if(n == 0):\n",
        "    return 1\n",
        "  return n * fact(n-1)\n",
        "print(fact(5))\n",
        "\n"
      ],
      "metadata": {
        "colab": {
          "base_uri": "https://localhost:8080/"
        },
        "id": "KUjzthjtNN5n",
        "outputId": "374b944f-faa5-400d-f8ac-690f36891c0e"
      },
      "execution_count": 62,
      "outputs": [
        {
          "output_type": "stream",
          "name": "stdout",
          "text": [
            "120\n"
          ]
        }
      ]
    },
    {
      "cell_type": "code",
      "source": [
        "#WAP a recursive function to calculate the sum of first n natural numbers.\n",
        "\n",
        "def calc_sum(n):\n",
        "  if(n == 0):\n",
        "    return 0\n",
        "  return calc_sum(n-1) + n\n",
        "\n",
        "sum = calc_sum(5)\n",
        "print(sum)"
      ],
      "metadata": {
        "colab": {
          "base_uri": "https://localhost:8080/"
        },
        "id": "WcXxf5n2ZCiG",
        "outputId": "184be0c9-ca0f-4e50-c2c8-4c52ec8b6761"
      },
      "execution_count": 67,
      "outputs": [
        {
          "output_type": "stream",
          "name": "stdout",
          "text": [
            "15\n"
          ]
        }
      ]
    },
    {
      "cell_type": "code",
      "source": [
        "# Write a recursive function to print all elements in a list.\n",
        "# Hint: USe list & Index as parameters\n",
        "\n",
        "def print_list(list, idx=0):\n",
        "  if(idx == len(list)):\n",
        "    return\n",
        "  print(list[idx])\n",
        "  print_list(list, idx+1)\n",
        "\n",
        "fruits = [\"mango\", \"litchi\", \"apple\", \"banana\"]\n",
        "print_list(fruits)"
      ],
      "metadata": {
        "colab": {
          "base_uri": "https://localhost:8080/"
        },
        "id": "YeAHyw_2cKwU",
        "outputId": "ce0b741b-e58e-4b5c-d8e8-eae2c5b2cc6f"
      },
      "execution_count": 69,
      "outputs": [
        {
          "output_type": "stream",
          "name": "stdout",
          "text": [
            "mango\n",
            "litchi\n",
            "apple\n",
            "banana\n"
          ]
        }
      ]
    },
    {
      "cell_type": "code",
      "source": [],
      "metadata": {
        "id": "de8KPGdUdWPI"
      },
      "execution_count": null,
      "outputs": []
    }
  ]
}