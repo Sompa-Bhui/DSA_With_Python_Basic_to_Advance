{
  "nbformat": 4,
  "nbformat_minor": 0,
  "metadata": {
    "colab": {
      "provenance": [],
      "authorship_tag": "ABX9TyNoO204pmOapWWYCmujLdbJ",
      "include_colab_link": true
    },
    "kernelspec": {
      "name": "python3",
      "display_name": "Python 3"
    },
    "language_info": {
      "name": "python"
    }
  },
  "cells": [
    {
      "cell_type": "markdown",
      "metadata": {
        "id": "view-in-github",
        "colab_type": "text"
      },
      "source": [
        "<a href=\"https://colab.research.google.com/github/Sompa-Bhui/DSA_With_Python_Basic_to_Advance/blob/main/Day0.ipynb\" target=\"_parent\"><img src=\"https://colab.research.google.com/assets/colab-badge.svg\" alt=\"Open In Colab\"/></a>"
      ]
    },
    {
      "cell_type": "code",
      "execution_count": null,
      "metadata": {
        "colab": {
          "base_uri": "https://localhost:8080/"
        },
        "id": "pofqroNsqfou",
        "outputId": "4687cc91-8b46-4ed9-fb45-a04ffa9caa7e"
      },
      "outputs": [
        {
          "output_type": "stream",
          "name": "stdout",
          "text": [
            "Hello Coder!\n"
          ]
        }
      ],
      "source": [
        "print(\"Hello Coder!\")"
      ]
    },
    {
      "cell_type": "markdown",
      "source": [
        "# Variables"
      ],
      "metadata": {
        "id": "wC7ZJbZosTog"
      }
    },
    {
      "cell_type": "code",
      "source": [
        "# String variable\n",
        "name = \"Sompa\"\n",
        "\n",
        "# Integer variable\n",
        "age = 21\n",
        "\n",
        "# Float variable\n",
        "height = 5.6\n",
        "\n",
        "# Boolean variable\n",
        "is_student = True\n",
        "\n",
        "print(\"Name:\", name)\n",
        "print(\"Age:\", age)\n",
        "print(\"Height:\", height)\n",
        "print(\"Student:\", is_student)"
      ],
      "metadata": {
        "colab": {
          "base_uri": "https://localhost:8080/"
        },
        "id": "7tKCP49nslJQ",
        "outputId": "0206205b-3f04-4356-df69-77c78da111ed"
      },
      "execution_count": null,
      "outputs": [
        {
          "output_type": "stream",
          "name": "stdout",
          "text": [
            "Name: Sompa\n",
            "Age: 21\n",
            "Height: 5.6\n",
            "Student: True\n"
          ]
        }
      ]
    },
    {
      "cell_type": "code",
      "source": [
        "x = 10\n",
        "y = \"Python\"\n",
        "z = 3.14\n",
        "\n",
        "print(type(x))  # <class 'int'>\n",
        "print(type(y))  # <class 'str'>\n",
        "print(type(z))  # <class 'float'>"
      ],
      "metadata": {
        "colab": {
          "base_uri": "https://localhost:8080/"
        },
        "id": "g4i_zWG5s_OC",
        "outputId": "36cb084a-691f-4974-a8fe-16a353a158aa"
      },
      "execution_count": null,
      "outputs": [
        {
          "output_type": "stream",
          "name": "stdout",
          "text": [
            "<class 'int'>\n",
            "<class 'str'>\n",
            "<class 'float'>\n"
          ]
        }
      ]
    },
    {
      "cell_type": "code",
      "source": [
        "a, b, c = 5, 10, 15\n",
        "print(a, b, c)\n",
        "\n",
        "# Same value to multiple variables\n",
        "x = y = z = 100\n",
        "print(x, y, z)"
      ],
      "metadata": {
        "colab": {
          "base_uri": "https://localhost:8080/"
        },
        "id": "KU7rKguhtJBS",
        "outputId": "4a9306dc-e37a-4a56-c3c7-d3148df9a6af"
      },
      "execution_count": null,
      "outputs": [
        {
          "output_type": "stream",
          "name": "stdout",
          "text": [
            "5 10 15\n",
            "100 100 100\n"
          ]
        }
      ]
    },
    {
      "cell_type": "code",
      "source": [
        "name = input(\"Enter your name: \")\n",
        "age = int(input(\"Enter your age: \"))\n",
        "print(\"Hello\", name, \"you are\", age, \"years old.\")"
      ],
      "metadata": {
        "colab": {
          "base_uri": "https://localhost:8080/"
        },
        "id": "ZKdROKXftNWD",
        "outputId": "c7df9381-55ad-4945-ff54-33a7ee6030f4"
      },
      "execution_count": null,
      "outputs": [
        {
          "output_type": "stream",
          "name": "stdout",
          "text": [
            "Enter your name: Sompa\n",
            "Enter your age: 21\n",
            "Hello Sompa you are 21 years old.\n"
          ]
        }
      ]
    },
    {
      "cell_type": "code",
      "source": [
        "x = 10\n",
        "y = 3\n",
        "\n",
        "print(\"Addition:\", x + y)\n",
        "print(\"Subtraction:\", x - y)\n",
        "print(\"Multiplication:\", x * y)\n",
        "print(\"Division:\", x / y)\n",
        "print(\"Floor Division:\", x // y)\n",
        "print(\"Modulus:\", x % y)\n",
        "print(\"Power:\", x ** y)"
      ],
      "metadata": {
        "colab": {
          "base_uri": "https://localhost:8080/"
        },
        "id": "bw2qz3XqtVJH",
        "outputId": "0abec40f-df41-447a-f5c6-db7dace57973"
      },
      "execution_count": null,
      "outputs": [
        {
          "output_type": "stream",
          "name": "stdout",
          "text": [
            "Addition: 13\n",
            "Subtraction: 7\n",
            "Multiplication: 30\n",
            "Division: 3.3333333333333335\n",
            "Floor Division: 3\n",
            "Modulus: 1\n",
            "Power: 1000\n"
          ]
        }
      ]
    },
    {
      "cell_type": "code",
      "source": [
        "m = 87\n",
        "t = 64\n",
        "\n",
        "avg = (m+t) / 2\n",
        "print(avg)"
      ],
      "metadata": {
        "colab": {
          "base_uri": "https://localhost:8080/"
        },
        "id": "c_l-HqfUtkm_",
        "outputId": "69d7e9c9-1c59-4557-d401-95718d11beed"
      },
      "execution_count": null,
      "outputs": [
        {
          "output_type": "stream",
          "name": "stdout",
          "text": [
            "75.5\n"
          ]
        }
      ]
    },
    {
      "cell_type": "code",
      "source": [],
      "metadata": {
        "id": "3ORPCfTItzP-"
      },
      "execution_count": null,
      "outputs": []
    },
    {
      "cell_type": "markdown",
      "source": [
        "# Keywords\n"
      ],
      "metadata": {
        "id": "g9s2PHK6xoIP"
      }
    },
    {
      "cell_type": "code",
      "source": [
        "# 1. Using Control Keywords (if, else, elif)\n",
        "\n",
        "age = 18\n",
        "\n",
        "if age < 18:\n",
        "    print(\"You are a minor.\")\n",
        "elif age == 18:\n",
        "    print(\"You're exactly 18!\")\n",
        "else:\n",
        "    print(\"You are an adult.\")\n"
      ],
      "metadata": {
        "colab": {
          "base_uri": "https://localhost:8080/"
        },
        "id": "StIb--EExscE",
        "outputId": "7613ff01-fb75-4080-f142-b8421ef31caa"
      },
      "execution_count": null,
      "outputs": [
        {
          "output_type": "stream",
          "name": "stdout",
          "text": [
            "You're exactly 18!\n"
          ]
        }
      ]
    },
    {
      "cell_type": "code",
      "source": [
        "# 2. Using Value Keywords (True, False, None)\n",
        "\n",
        "light_on = True\n",
        "\n",
        "if light_on:\n",
        "    print(\"The light is ON.\")\n",
        "else:\n",
        "    print(\"The light is OFF.\")"
      ],
      "metadata": {
        "colab": {
          "base_uri": "https://localhost:8080/"
        },
        "id": "Bpmzvkv1xtUT",
        "outputId": "67b6c9db-0396-40ec-ad8d-62e968114535"
      },
      "execution_count": null,
      "outputs": [
        {
          "output_type": "stream",
          "name": "stdout",
          "text": [
            "The light is ON.\n"
          ]
        }
      ]
    },
    {
      "cell_type": "code",
      "source": [],
      "metadata": {
        "id": "93HshyGM1m_T"
      },
      "execution_count": null,
      "outputs": []
    },
    {
      "cell_type": "code",
      "source": [],
      "metadata": {
        "id": "c_exO9IKwyD-"
      },
      "execution_count": null,
      "outputs": []
    },
    {
      "cell_type": "markdown",
      "source": [
        "# Identifiers"
      ],
      "metadata": {
        "id": "mMCoLqfWw1gQ"
      }
    },
    {
      "cell_type": "code",
      "source": [
        "name = \"Sompa\"\n",
        "Name = \"Sompa\"\n",
        "age_1 = 21\n",
        "my_name = \"Sompa_Bhui\"\n",
        "print(name)\n",
        "print(Name)\n",
        "print(age_1)\n",
        "print(my_name)"
      ],
      "metadata": {
        "colab": {
          "base_uri": "https://localhost:8080/"
        },
        "id": "Whv_hoihxbGv",
        "outputId": "b62bbcaa-5197-4474-a185-0cec624f143f"
      },
      "execution_count": null,
      "outputs": [
        {
          "output_type": "stream",
          "name": "stdout",
          "text": [
            "Sompa\n",
            "Sompa\n",
            "21\n",
            "Sompa_Bhui\n"
          ]
        }
      ]
    },
    {
      "cell_type": "code",
      "source": [
        "name_10 = \"Raj\"\n",
        "age1 =22\n",
        "_address = \"Jamshedpur\"\n",
        "\n",
        "print(name_10)\n",
        "print(age1)\n",
        "print(_address)"
      ],
      "metadata": {
        "colab": {
          "base_uri": "https://localhost:8080/"
        },
        "id": "IBrBNMsmxgkO",
        "outputId": "97b80ce3-d0dd-4912-cd16-405f88746abc"
      },
      "execution_count": null,
      "outputs": [
        {
          "output_type": "stream",
          "name": "stdout",
          "text": [
            "Raj\n",
            "22\n",
            "Jamshedpur\n"
          ]
        }
      ]
    },
    {
      "cell_type": "code",
      "source": [
        "# Variables are case Sensitive\n",
        "name = \"Moni\"\n",
        "Name = \"Sompa\"\n",
        "\n",
        "print(Name)\n",
        "print(name)"
      ],
      "metadata": {
        "colab": {
          "base_uri": "https://localhost:8080/"
        },
        "id": "ffLDbbLJyE46",
        "outputId": "7ce43201-f543-4026-bc6a-6078111c0a9e"
      },
      "execution_count": null,
      "outputs": [
        {
          "output_type": "stream",
          "name": "stdout",
          "text": [
            "Sompa\n",
            "Moni\n"
          ]
        }
      ]
    },
    {
      "cell_type": "code",
      "source": [],
      "metadata": {
        "id": "MUyLn7BEyX71"
      },
      "execution_count": null,
      "outputs": []
    },
    {
      "cell_type": "markdown",
      "source": [
        "# Comments"
      ],
      "metadata": {
        "id": "N0ZYUTs_GICx"
      }
    },
    {
      "cell_type": "code",
      "source": [
        "#This is Single Line Comments\n",
        "\n",
        "#This is multi line comments\n",
        "# We have to use hash\n",
        "# in every line\n",
        "\n",
        "'''We can use this for doc string'''\n",
        "\"\"\" We can use also use double quotes for doc string\"\"\""
      ],
      "metadata": {
        "colab": {
          "base_uri": "https://localhost:8080/",
          "height": 36
        },
        "id": "Uw0ZmwlzGJ1Q",
        "outputId": "438d1688-8b5b-4ea4-d5a6-e3d39d281628"
      },
      "execution_count": 1,
      "outputs": [
        {
          "output_type": "execute_result",
          "data": {
            "text/plain": [
              "' We can use also use double quotes for doc string'"
            ],
            "application/vnd.google.colaboratory.intrinsic+json": {
              "type": "string"
            }
          },
          "metadata": {},
          "execution_count": 1
        }
      ]
    },
    {
      "cell_type": "code",
      "source": [],
      "metadata": {
        "id": "RoxIcLPNGcla"
      },
      "execution_count": null,
      "outputs": []
    }
  ]
}